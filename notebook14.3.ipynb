{
 "cells": [
  {
   "cell_type": "code",
   "execution_count": 14,
   "metadata": {},
   "outputs": [],
   "source": [
    "from langchain.utilities.duckduckgo_search import DuckDuckGoSearchAPIWrapper\n",
    "from langchain.retrievers import WikipediaRetriever\n",
    "from langchain_community.utilities import WikipediaAPIWrapper\n",
    "from langchain_community.tools import WikipediaQueryRun\n",
    "from langchain_community.tools import DuckDuckGoSearchResults\n",
    "import yfinance\n",
    "import json\n",
    "\n",
    "def get_ticker(inputs):\n",
    "    company_name = inputs[\"company_name\"] #inputs에는 {\"company_name\": \"Apple\"} 이런식으로 들어옴\n",
    "    # ddg = DuckDuckGoSearchResults()\n",
    "    ddg = DuckDuckGoSearchAPIWrapper()\n",
    "    # return ddg.text(f\"Ticker symbol of {company_name}\")\n",
    "    return {\"ticker\": \"AAPL\"}\n",
    "\n",
    "    # wikipedia = WikipediaQueryRun(api_wrapper=WikipediaAPIWrapper())\n",
    "    # return wikipedia.run(f\"Ticker symbol of {company_name} example: AAPL\")\n",
    "\n",
    "def get_income_statement(inputs):\n",
    "    ticker = inputs[\"ticker\"]\n",
    "    stock = yfinance.Ticker(ticker)\n",
    "    # return stock.income_stmt #pandas dataframe\n",
    "    return json.dumps(stock.income_stmt.to_json()) #json string\n",
    "\n",
    "def get_balance_sheet(inputs):\n",
    "    ticker = inputs[\"ticker\"]\n",
    "    stock = yfinance.Ticker(ticker)\n",
    "    return json.dumps(stock.balance_sheet.to_json())\n",
    "\n",
    "def get_daily_stock_performance(inputs):\n",
    "    ticker = inputs[\"ticker\"]\n",
    "    stock = yfinance.Ticker(ticker)\n",
    "    return json.dumps(stock.history(period=\"3mo\").to_json()) #json string\n",
    "\n",
    "\n",
    "functions = [\n",
    "    {\n",
    "        \"type\": \"function\",\n",
    "        \"function\": {\n",
    "            \"name\": \"get_ticker\",\n",
    "            \"description\": \"Given the name of a company returns its ticker symbol\",\n",
    "            \"parameters\": {\n",
    "                \"type\": \"object\",\n",
    "                \"properties\": {\n",
    "                    \"company_name\": {\n",
    "                        \"type\": \"string\",\n",
    "                        \"description\": \"The name of the company\",\n",
    "                    }\n",
    "                },\n",
    "                \"required\": [\"company_name\"],\n",
    "            },\n",
    "        },\n",
    "    },\n",
    "    {\n",
    "        \"type\": \"function\",\n",
    "        \"function\": {\n",
    "            \"name\": \"get_income_statement\",\n",
    "            \"description\": \"Given a ticker symbol (i.e AAPL) returns the company's income statement.\",\n",
    "            \"parameters\": {\n",
    "                \"type\": \"object\",\n",
    "                \"properties\": {\n",
    "                    \"ticker\": {\n",
    "                        \"type\": \"string\",\n",
    "                        \"description\": \"Ticker symbol of the company\",\n",
    "                    },\n",
    "                },\n",
    "                \"required\": [\"ticker\"],\n",
    "            },\n",
    "        },\n",
    "    },\n",
    "    {\n",
    "        \"type\": \"function\",\n",
    "        \"function\": {\n",
    "            \"name\": \"get_balance_sheet\",\n",
    "            \"description\": \"Given a ticker symbol (i.e AAPL) returns the company's balance sheet.\",\n",
    "            \"parameters\": {\n",
    "                \"type\": \"object\",\n",
    "                \"properties\": {\n",
    "                    \"ticker\": {\n",
    "                        \"type\": \"string\",\n",
    "                        \"description\": \"Ticker symbol of the company\",\n",
    "                    },\n",
    "                },\n",
    "                \"required\": [\"ticker\"],\n",
    "            },\n",
    "        },\n",
    "    },\n",
    "    {\n",
    "        \"type\": \"function\",\n",
    "        \"function\": {\n",
    "            \"name\": \"get_daily_stock_performance\",\n",
    "            \"description\": \"Given a ticker symbol (i.e AAPL) returns the performance of the stock for the last 100 days.\",\n",
    "            \"parameters\": {\n",
    "                \"type\": \"object\",\n",
    "                \"properties\": {\n",
    "                    \"ticker\": {\n",
    "                        \"type\": \"string\",\n",
    "                        \"description\": \"Ticker symbol of the company\",\n",
    "                    },\n",
    "                },\n",
    "                \"required\": [\"ticker\"],\n",
    "            },\n",
    "        },\n",
    "    },\n",
    "]\n",
    "\n",
    "# a = get_income_statement({\"ticker\": \"AAPL\"})\n",
    "# print(type(a))\n",
    "# print(a)\n"
   ]
  },
  {
   "cell_type": "code",
   "execution_count": null,
   "metadata": {},
   "outputs": [
    {
     "name": "stdout",
     "output_type": "stream",
     "text": [
      "Assistant(id='asst_CtI9FmsHF9VLke9iz8pZ3KVw', created_at=1737851182, description=None, instructions='You help users do research on publicly traded companies and you help users decide if they should buy the stock or not.', metadata={}, model='gpt-4-1106-preview', name='Investor Assistant', object='assistant', tools=[FunctionTool(function=FunctionDefinition(name='get_ticker', description='Given the name of a company returns its ticker symbol', parameters={'type': 'object', 'properties': {'company_name': {'type': 'string', 'description': 'The name of the company'}}, 'required': ['company_name']}, strict=False), type='function'), FunctionTool(function=FunctionDefinition(name='get_income_statement', description=\"Given a ticker symbol (i.e AAPL) returns the company's income statement.\", parameters={'type': 'object', 'properties': {'ticker': {'type': 'string', 'description': 'Ticker symbol of the company'}}, 'required': ['ticker']}, strict=False), type='function'), FunctionTool(function=FunctionDefinition(name='get_balance_sheet', description=\"Given a ticker symbol (i.e AAPL) returns the company's balance sheet.\", parameters={'type': 'object', 'properties': {'ticker': {'type': 'string', 'description': 'Ticker symbol of the company'}}, 'required': ['ticker']}, strict=False), type='function'), FunctionTool(function=FunctionDefinition(name='get_daily_stock_performance', description='Given a ticker symbol (i.e AAPL) returns the performance of the stock for the last 100 days.', parameters={'type': 'object', 'properties': {'ticker': {'type': 'string', 'description': 'Ticker symbol of the company'}}, 'required': ['ticker']}, strict=False), type='function')], response_format='auto', temperature=1.0, tool_resources=ToolResources(code_interpreter=None, file_search=None), top_p=1.0)\n"
     ]
    }
   ],
   "source": [
    "from langchain.chat_models import ChatOpenAI\n",
    "from langchain.prompts import PromptTemplate\n",
    "from openai import OpenAI\n",
    "\n",
    "client = OpenAI()\n",
    "\n",
    "assistant = client.beta.assistants.create(\n",
    "    name=\"Investor Assistant\",\n",
    "    instructions=\"You help users do research on publicly traded companies and you help users decide if they should buy the stock or not.\",\n",
    "    model=\"gpt-4-1106-preview\",\n",
    "    tools=functions,\n",
    ")\n",
    "\n",
    "print(assistant)\n",
    "# id='asst_CtI9FmsHF9VLke9iz8pZ3KVw''"
   ]
  },
  {
   "cell_type": "code",
   "execution_count": null,
   "metadata": {},
   "outputs": [],
   "source": [
    "# print(get_ticker({\"company_name\":\"Apple\"}))"
   ]
  },
  {
   "cell_type": "markdown",
   "metadata": {},
   "source": []
  },
  {
   "cell_type": "code",
   "execution_count": 17,
   "metadata": {},
   "outputs": [
    {
     "data": {
      "text/plain": [
       "'\"{\\\\\"1727654400000\\\\\":{\\\\\"Tax Effect Of Unusual Items\\\\\":0.0,\\\\\"Tax Rate For Calcs\\\\\":0.240912,\\\\\"Normalized EBITDA\\\\\":134661000000.0,\\\\\"Net Income From Continuing Operation Net Minority Interest\\\\\":93736000000.0,\\\\\"Reconciled Depreciation\\\\\":11445000000.0,\\\\\"Reconciled Cost Of Revenue\\\\\":210352000000.0,\\\\\"EBITDA\\\\\":134661000000.0,\\\\\"EBIT\\\\\":123216000000.0,\\\\\"Net Interest Income\\\\\":null,\\\\\"Interest Expense\\\\\":null,\\\\\"Interest Income\\\\\":null,\\\\\"Normalized Income\\\\\":93736000000.0,\\\\\"Net Income From Continuing And Discontinued Operation\\\\\":93736000000.0,\\\\\"Total Expenses\\\\\":267819000000.0,\\\\\"Total Operating Income As Reported\\\\\":123216000000.0,\\\\\"Diluted Average Shares\\\\\":null,\\\\\"Basic Average Shares\\\\\":null,\\\\\"Diluted EPS\\\\\":null,\\\\\"Basic EPS\\\\\":null,\\\\\"Diluted NI Availto Com Stockholders\\\\\":93736000000.0,\\\\\"Net Income Common Stockholders\\\\\":93736000000.0,\\\\\"Net Income\\\\\":93736000000.0,\\\\\"Net Income Including Noncontrolling Interests\\\\\":93736000000.0,\\\\\"Net Income Continuous Operations\\\\\":93736000000.0,\\\\\"Tax Provision\\\\\":29749000000.0,\\\\\"Pretax Income\\\\\":123485000000.0,\\\\\"Other Income Expense\\\\\":269000000.0,\\\\\"Other Non Operating Income Expenses\\\\\":269000000.0,\\\\\"Net Non Operating Interest Income Expense\\\\\":null,\\\\\"Interest Expense Non Operating\\\\\":null,\\\\\"Interest Income Non Operating\\\\\":null,\\\\\"Operating Income\\\\\":123216000000.0,\\\\\"Operating Expense\\\\\":57467000000.0,\\\\\"Research And Development\\\\\":31370000000.0,\\\\\"Selling General And Administration\\\\\":26097000000.0,\\\\\"Gross Profit\\\\\":180683000000.0,\\\\\"Cost Of Revenue\\\\\":210352000000.0,\\\\\"Total Revenue\\\\\":391035000000.0,\\\\\"Operating Revenue\\\\\":391035000000.0},\\\\\"1696032000000\\\\\":{\\\\\"Tax Effect Of Unusual Items\\\\\":0.0,\\\\\"Tax Rate For Calcs\\\\\":0.147192,\\\\\"Normalized EBITDA\\\\\":125820000000.0,\\\\\"Net Income From Continuing Operation Net Minority Interest\\\\\":96995000000.0,\\\\\"Reconciled Depreciation\\\\\":11519000000.0,\\\\\"Reconciled Cost Of Revenue\\\\\":214137000000.0,\\\\\"EBITDA\\\\\":125820000000.0,\\\\\"EBIT\\\\\":114301000000.0,\\\\\"Net Interest Income\\\\\":-183000000.0,\\\\\"Interest Expense\\\\\":3933000000.0,\\\\\"Interest Income\\\\\":3750000000.0,\\\\\"Normalized Income\\\\\":96995000000.0,\\\\\"Net Income From Continuing And Discontinued Operation\\\\\":96995000000.0,\\\\\"Total Expenses\\\\\":268984000000.0,\\\\\"Total Operating Income As Reported\\\\\":114301000000.0,\\\\\"Diluted Average Shares\\\\\":15812547000.0,\\\\\"Basic Average Shares\\\\\":15744231000.0,\\\\\"Diluted EPS\\\\\":6.13,\\\\\"Basic EPS\\\\\":6.16,\\\\\"Diluted NI Availto Com Stockholders\\\\\":96995000000.0,\\\\\"Net Income Common Stockholders\\\\\":96995000000.0,\\\\\"Net Income\\\\\":96995000000.0,\\\\\"Net Income Including Noncontrolling Interests\\\\\":96995000000.0,\\\\\"Net Income Continuous Operations\\\\\":96995000000.0,\\\\\"Tax Provision\\\\\":16741000000.0,\\\\\"Pretax Income\\\\\":113736000000.0,\\\\\"Other Income Expense\\\\\":-565000000.0,\\\\\"Other Non Operating Income Expenses\\\\\":-565000000.0,\\\\\"Net Non Operating Interest Income Expense\\\\\":-183000000.0,\\\\\"Interest Expense Non Operating\\\\\":3933000000.0,\\\\\"Interest Income Non Operating\\\\\":3750000000.0,\\\\\"Operating Income\\\\\":114301000000.0,\\\\\"Operating Expense\\\\\":54847000000.0,\\\\\"Research And Development\\\\\":29915000000.0,\\\\\"Selling General And Administration\\\\\":24932000000.0,\\\\\"Gross Profit\\\\\":169148000000.0,\\\\\"Cost Of Revenue\\\\\":214137000000.0,\\\\\"Total Revenue\\\\\":383285000000.0,\\\\\"Operating Revenue\\\\\":383285000000.0},\\\\\"1664496000000\\\\\":{\\\\\"Tax Effect Of Unusual Items\\\\\":0.0,\\\\\"Tax Rate For Calcs\\\\\":0.162,\\\\\"Normalized EBITDA\\\\\":130541000000.0,\\\\\"Net Income From Continuing Operation Net Minority Interest\\\\\":99803000000.0,\\\\\"Reconciled Depreciation\\\\\":11104000000.0,\\\\\"Reconciled Cost Of Revenue\\\\\":223546000000.0,\\\\\"EBITDA\\\\\":130541000000.0,\\\\\"EBIT\\\\\":119437000000.0,\\\\\"Net Interest Income\\\\\":-106000000.0,\\\\\"Interest Expense\\\\\":2931000000.0,\\\\\"Interest Income\\\\\":2825000000.0,\\\\\"Normalized Income\\\\\":99803000000.0,\\\\\"Net Income From Continuing And Discontinued Operation\\\\\":99803000000.0,\\\\\"Total Expenses\\\\\":274891000000.0,\\\\\"Total Operating Income As Reported\\\\\":119437000000.0,\\\\\"Diluted Average Shares\\\\\":16325819000.0,\\\\\"Basic Average Shares\\\\\":16215963000.0,\\\\\"Diluted EPS\\\\\":6.11,\\\\\"Basic EPS\\\\\":6.15,\\\\\"Diluted NI Availto Com Stockholders\\\\\":99803000000.0,\\\\\"Net Income Common Stockholders\\\\\":99803000000.0,\\\\\"Net Income\\\\\":99803000000.0,\\\\\"Net Income Including Noncontrolling Interests\\\\\":99803000000.0,\\\\\"Net Income Continuous Operations\\\\\":99803000000.0,\\\\\"Tax Provision\\\\\":19300000000.0,\\\\\"Pretax Income\\\\\":119103000000.0,\\\\\"Other Income Expense\\\\\":-334000000.0,\\\\\"Other Non Operating Income Expenses\\\\\":-334000000.0,\\\\\"Net Non Operating Interest Income Expense\\\\\":-106000000.0,\\\\\"Interest Expense Non Operating\\\\\":2931000000.0,\\\\\"Interest Income Non Operating\\\\\":2825000000.0,\\\\\"Operating Income\\\\\":119437000000.0,\\\\\"Operating Expense\\\\\":51345000000.0,\\\\\"Research And Development\\\\\":26251000000.0,\\\\\"Selling General And Administration\\\\\":25094000000.0,\\\\\"Gross Profit\\\\\":170782000000.0,\\\\\"Cost Of Revenue\\\\\":223546000000.0,\\\\\"Total Revenue\\\\\":394328000000.0,\\\\\"Operating Revenue\\\\\":394328000000.0},\\\\\"1632960000000\\\\\":{\\\\\"Tax Effect Of Unusual Items\\\\\":0.0,\\\\\"Tax Rate For Calcs\\\\\":0.133,\\\\\"Normalized EBITDA\\\\\":123136000000.0,\\\\\"Net Income From Continuing Operation Net Minority Interest\\\\\":94680000000.0,\\\\\"Reconciled Depreciation\\\\\":11284000000.0,\\\\\"Reconciled Cost Of Revenue\\\\\":212981000000.0,\\\\\"EBITDA\\\\\":123136000000.0,\\\\\"EBIT\\\\\":111852000000.0,\\\\\"Net Interest Income\\\\\":198000000.0,\\\\\"Interest Expense\\\\\":2645000000.0,\\\\\"Interest Income\\\\\":2843000000.0,\\\\\"Normalized Income\\\\\":94680000000.0,\\\\\"Net Income From Continuing And Discontinued Operation\\\\\":94680000000.0,\\\\\"Total Expenses\\\\\":256868000000.0,\\\\\"Total Operating Income As Reported\\\\\":108949000000.0,\\\\\"Diluted Average Shares\\\\\":16864919000.0,\\\\\"Basic Average Shares\\\\\":16701272000.0,\\\\\"Diluted EPS\\\\\":5.61,\\\\\"Basic EPS\\\\\":5.67,\\\\\"Diluted NI Availto Com Stockholders\\\\\":94680000000.0,\\\\\"Net Income Common Stockholders\\\\\":94680000000.0,\\\\\"Net Income\\\\\":94680000000.0,\\\\\"Net Income Including Noncontrolling Interests\\\\\":94680000000.0,\\\\\"Net Income Continuous Operations\\\\\":94680000000.0,\\\\\"Tax Provision\\\\\":14527000000.0,\\\\\"Pretax Income\\\\\":109207000000.0,\\\\\"Other Income Expense\\\\\":60000000.0,\\\\\"Other Non Operating Income Expenses\\\\\":60000000.0,\\\\\"Net Non Operating Interest Income Expense\\\\\":198000000.0,\\\\\"Interest Expense Non Operating\\\\\":2645000000.0,\\\\\"Interest Income Non Operating\\\\\":2843000000.0,\\\\\"Operating Income\\\\\":108949000000.0,\\\\\"Operating Expense\\\\\":43887000000.0,\\\\\"Research And Development\\\\\":21914000000.0,\\\\\"Selling General And Administration\\\\\":21973000000.0,\\\\\"Gross Profit\\\\\":152836000000.0,\\\\\"Cost Of Revenue\\\\\":212981000000.0,\\\\\"Total Revenue\\\\\":365817000000.0,\\\\\"Operating Revenue\\\\\":365817000000.0},\\\\\"1601424000000\\\\\":{\\\\\"Tax Effect Of Unusual Items\\\\\":null,\\\\\"Tax Rate For Calcs\\\\\":null,\\\\\"Normalized EBITDA\\\\\":null,\\\\\"Net Income From Continuing Operation Net Minority Interest\\\\\":null,\\\\\"Reconciled Depreciation\\\\\":null,\\\\\"Reconciled Cost Of Revenue\\\\\":null,\\\\\"EBITDA\\\\\":null,\\\\\"EBIT\\\\\":null,\\\\\"Net Interest Income\\\\\":890000000.0,\\\\\"Interest Expense\\\\\":2873000000.0,\\\\\"Interest Income\\\\\":3763000000.0,\\\\\"Normalized Income\\\\\":null,\\\\\"Net Income From Continuing And Discontinued Operation\\\\\":null,\\\\\"Total Expenses\\\\\":null,\\\\\"Total Operating Income As Reported\\\\\":null,\\\\\"Diluted Average Shares\\\\\":17528214000.0,\\\\\"Basic Average Shares\\\\\":17352119000.0,\\\\\"Diluted EPS\\\\\":3.28,\\\\\"Basic EPS\\\\\":3.31,\\\\\"Diluted NI Availto Com Stockholders\\\\\":null,\\\\\"Net Income Common Stockholders\\\\\":null,\\\\\"Net Income\\\\\":null,\\\\\"Net Income Including Noncontrolling Interests\\\\\":null,\\\\\"Net Income Continuous Operations\\\\\":null,\\\\\"Tax Provision\\\\\":null,\\\\\"Pretax Income\\\\\":null,\\\\\"Other Income Expense\\\\\":null,\\\\\"Other Non Operating Income Expenses\\\\\":null,\\\\\"Net Non Operating Interest Income Expense\\\\\":890000000.0,\\\\\"Interest Expense Non Operating\\\\\":2873000000.0,\\\\\"Interest Income Non Operating\\\\\":3763000000.0,\\\\\"Operating Income\\\\\":null,\\\\\"Operating Expense\\\\\":null,\\\\\"Research And Development\\\\\":null,\\\\\"Selling General And Administration\\\\\":null,\\\\\"Gross Profit\\\\\":null,\\\\\"Cost Of Revenue\\\\\":null,\\\\\"Total Revenue\\\\\":null,\\\\\"Operating Revenue\\\\\":null}}\"'"
      ]
     },
     "execution_count": 17,
     "metadata": {},
     "output_type": "execute_result"
    }
   ],
   "source": [
    "# ticker = {\"ticker\": \"NET\"}\n",
    "ticker = get_ticker({\"company_name\":\"Apple\"})\n",
    "\n",
    "get_income_statement(ticker)"
   ]
  },
  {
   "cell_type": "code",
   "execution_count": 15,
   "metadata": {},
   "outputs": [
    {
     "data": {
      "text/plain": [
       "'\"{\\\\\"Open\\\\\":{\\\\\"1729828800000\\\\\":89.8199996948,\\\\\"1730088000000\\\\\":89.3799972534,\\\\\"1730174400000\\\\\":88.4400024414,\\\\\"1730260800000\\\\\":89.5,\\\\\"1730347200000\\\\\":88.2900009155,\\\\\"1730433600000\\\\\":88.6100006104,\\\\\"1730696400000\\\\\":87.0,\\\\\"1730782800000\\\\\":86.9199981689,\\\\\"1730869200000\\\\\":90.25,\\\\\"1730955600000\\\\\":94.8899993896,\\\\\"1731042000000\\\\\":88.4499969482,\\\\\"1731301200000\\\\\":91.25,\\\\\"1731387600000\\\\\":92.8899993896,\\\\\"1731474000000\\\\\":91.4199981689,\\\\\"1731560400000\\\\\":94.4599990845,\\\\\"1731646800000\\\\\":90.4300003052,\\\\\"1731906000000\\\\\":89.9749984741,\\\\\"1731992400000\\\\\":91.4649963379,\\\\\"1732078800000\\\\\":96.5599975586,\\\\\"1732165200000\\\\\":99.7600021362,\\\\\"1732251600000\\\\\":104.0,\\\\\"1732510800000\\\\\":106.75,\\\\\"1732597200000\\\\\":104.0,\\\\\"1732683600000\\\\\":101.8799972534,\\\\\"1732856400000\\\\\":99.5599975586,\\\\\"1733115600000\\\\\":106.0299987793,\\\\\"1733202000000\\\\\":103.3700027466,\\\\\"1733288400000\\\\\":107.0,\\\\\"1733374800000\\\\\":109.4100036621,\\\\\"1733461200000\\\\\":111.2799987793,\\\\\"1733720400000\\\\\":112.9599990845,\\\\\"1733806800000\\\\\":112.8000030518,\\\\\"1733893200000\\\\\":112.3949966431,\\\\\"1733979600000\\\\\":112.4000015259,\\\\\"1734066000000\\\\\":114.8000030518,\\\\\"1734325200000\\\\\":113.9000015259,\\\\\"1734411600000\\\\\":118.2300033569,\\\\\"1734498000000\\\\\":117.5800018311,\\\\\"1734584400000\\\\\":110.3700027466,\\\\\"1734670800000\\\\\":108.0,\\\\\"1734930000000\\\\\":112.1600036621,\\\\\"1735016400000\\\\\":111.75,\\\\\"1735189200000\\\\\":112.1100006104,\\\\\"1735275600000\\\\\":111.9449996948,\\\\\"1735534800000\\\\\":108.6699981689,\\\\\"1735621200000\\\\\":109.0,\\\\\"1735794000000\\\\\":114.5,\\\\\"1735880400000\\\\\":113.4000015259,\\\\\"1736139600000\\\\\":116.3649978638,\\\\\"1736226000000\\\\\":116.6399993896,\\\\\"1736312400000\\\\\":112.4300003052,\\\\\"1736485200000\\\\\":111.1299972534,\\\\\"1736744400000\\\\\":110.0350036621,\\\\\"1736830800000\\\\\":112.4599990845,\\\\\"1736917200000\\\\\":113.5599975586,\\\\\"1737003600000\\\\\":115.4199981689,\\\\\"1737090000000\\\\\":119.4199981689,\\\\\"1737435600000\\\\\":119.2600021362,\\\\\"1737522000000\\\\\":120.7050018311,\\\\\"1737608400000\\\\\":122.9899978638,\\\\\"1737694800000\\\\\":125.0},\\\\\"High\\\\\":{\\\\\"1729828800000\\\\\":90.6500015259,\\\\\"1730088000000\\\\\":90.0800018311,\\\\\"1730174400000\\\\\":89.6299972534,\\\\\"1730260800000\\\\\":91.3099975586,\\\\\"1730347200000\\\\\":88.7300033569,\\\\\"1730433600000\\\\\":88.6999969482,\\\\\"1730696400000\\\\\":87.7600021362,\\\\\"1730782800000\\\\\":88.1500015259,\\\\\"1730869200000\\\\\":92.6200027466,\\\\\"1730955600000\\\\\":97.5329971313,\\\\\"1731042000000\\\\\":92.1999969482,\\\\\"1731301200000\\\\\":95.3600006104,\\\\\"1731387600000\\\\\":94.0,\\\\\"1731474000000\\\\\":99.1699981689,\\\\\"1731560400000\\\\\":95.4499969482,\\\\\"1731646800000\\\\\":91.1299972534,\\\\\"1731906000000\\\\\":92.9000015259,\\\\\"1731992400000\\\\\":96.5599975586,\\\\\"1732078800000\\\\\":96.9599990845,\\\\\"1732165200000\\\\\":104.4899978638,\\\\\"1732251600000\\\\\":105.9400024414,\\\\\"1732510800000\\\\\":106.75,\\\\\"1732597200000\\\\\":105.0,\\\\\"1732683600000\\\\\":101.8799972534,\\\\\"1732856400000\\\\\":101.1399993896,\\\\\"1733115600000\\\\\":108.6169967651,\\\\\"1733202000000\\\\\":105.888999939,\\\\\"1733288400000\\\\\":110.8499984741,\\\\\"1733374800000\\\\\":112.8399963379,\\\\\"1733461200000\\\\\":113.6999969482,\\\\\"1733720400000\\\\\":114.6949996948,\\\\\"1733806800000\\\\\":113.8700027466,\\\\\"1733893200000\\\\\":115.8399963379,\\\\\"1733979600000\\\\\":115.1200027466,\\\\\"1734066000000\\\\\":115.2900009155,\\\\\"1734325200000\\\\\":115.4300003052,\\\\\"1734411600000\\\\\":119.4199981689,\\\\\"1734498000000\\\\\":117.5800018311,\\\\\"1734584400000\\\\\":111.1299972534,\\\\\"1734670800000\\\\\":113.5,\\\\\"1734930000000\\\\\":113.2699966431,\\\\\"1735016400000\\\\\":113.0999984741,\\\\\"1735189200000\\\\\":113.5400009155,\\\\\"1735275600000\\\\\":112.3600006104,\\\\\"1735534800000\\\\\":109.4000015259,\\\\\"1735621200000\\\\\":109.0400009155,\\\\\"1735794000000\\\\\":114.75,\\\\\"1735880400000\\\\\":114.8000030518,\\\\\"1736139600000\\\\\":117.0800018311,\\\\\"1736226000000\\\\\":118.1299972534,\\\\\"1736312400000\\\\\":115.9000015259,\\\\\"1736485200000\\\\\":113.25,\\\\\"1736744400000\\\\\":111.1600036621,\\\\\"1736830800000\\\\\":113.9000015259,\\\\\"1736917200000\\\\\":115.5199966431,\\\\\"1737003600000\\\\\":116.4700012207,\\\\\"1737090000000\\\\\":121.0199966431,\\\\\"1737435600000\\\\\":120.4499969482,\\\\\"1737522000000\\\\\":123.1299972534,\\\\\"1737608400000\\\\\":124.6399993896,\\\\\"1737694800000\\\\\":125.7099990845},\\\\\"Low\\\\\":{\\\\\"1729828800000\\\\\":88.4700012207,\\\\\"1730088000000\\\\\":87.7799987793,\\\\\"1730174400000\\\\\":87.3300018311,\\\\\"1730260800000\\\\\":89.3570022583,\\\\\"1730347200000\\\\\":87.0999984741,\\\\\"1730433600000\\\\\":86.2570037842,\\\\\"1730696400000\\\\\":85.5999984741,\\\\\"1730782800000\\\\\":86.4250030518,\\\\\"1730869200000\\\\\":89.8150024414,\\\\\"1730955600000\\\\\":94.1100006104,\\\\\"1731042000000\\\\\":87.2399978638,\\\\\"1731301200000\\\\\":90.8000030518,\\\\\"1731387600000\\\\\":89.4499969482,\\\\\"1731474000000\\\\\":91.25,\\\\\"1731560400000\\\\\":91.0599975586,\\\\\"1731646800000\\\\\":87.7699966431,\\\\\"1731906000000\\\\\":89.5500030518,\\\\\"1731992400000\\\\\":91.4199981689,\\\\\"1732078800000\\\\\":93.1600036621,\\\\\"1732165200000\\\\\":99.3300018311,\\\\\"1732251600000\\\\\":102.8700027466,\\\\\"1732510800000\\\\\":103.0790023804,\\\\\"1732597200000\\\\\":101.6699981689,\\\\\"1732683600000\\\\\":98.5800018311,\\\\\"1732856400000\\\\\":98.8899993896,\\\\\"1733115600000\\\\\":104.6100006104,\\\\\"1733202000000\\\\\":103.2099990845,\\\\\"1733288400000\\\\\":106.9400024414,\\\\\"1733374800000\\\\\":108.6100006104,\\\\\"1733461200000\\\\\":110.3499984741,\\\\\"1733720400000\\\\\":111.2799987793,\\\\\"1733806800000\\\\\":109.7300033569,\\\\\"1733893200000\\\\\":112.0,\\\\\"1733979600000\\\\\":111.3300018311,\\\\\"1734066000000\\\\\":112.6100006104,\\\\\"1734325200000\\\\\":112.1699981689,\\\\\"1734411600000\\\\\":116.0100021362,\\\\\"1734498000000\\\\\":108.4700012207,\\\\\"1734584400000\\\\\":107.0,\\\\\"1734670800000\\\\\":107.0699996948,\\\\\"1734930000000\\\\\":110.5299987793,\\\\\"1735016400000\\\\\":111.7030029297,\\\\\"1735189200000\\\\\":111.5500030518,\\\\\"1735275600000\\\\\":108.2099990845,\\\\\"1735534800000\\\\\":107.4899978638,\\\\\"1735621200000\\\\\":106.986000061,\\\\\"1735794000000\\\\\":110.6800003052,\\\\\"1735880400000\\\\\":112.0599975586,\\\\\"1736139600000\\\\\":112.5149993896,\\\\\"1736226000000\\\\\":112.9499969482,\\\\\"1736312400000\\\\\":111.4850006104,\\\\\"1736485200000\\\\\":109.5009994507,\\\\\"1736744400000\\\\\":108.5849990845,\\\\\"1736830800000\\\\\":111.3199996948,\\\\\"1736917200000\\\\\":113.1399993896,\\\\\"1737003600000\\\\\":114.1100006104,\\\\\"1737090000000\\\\\":116.7750015259,\\\\\"1737435600000\\\\\":117.9400024414,\\\\\"1737522000000\\\\\":119.8700027466,\\\\\"1737608400000\\\\\":122.0,\\\\\"1737694800000\\\\\":123.2799987793},\\\\\"Close\\\\\":{\\\\\"1729828800000\\\\\":88.7600021362,\\\\\"1730088000000\\\\\":87.9400024414,\\\\\"1730174400000\\\\\":89.5199966431,\\\\\"1730260800000\\\\\":89.8499984741,\\\\\"1730347200000\\\\\":87.7099990845,\\\\\"1730433600000\\\\\":87.5500030518,\\\\\"1730696400000\\\\\":86.4899978638,\\\\\"1730782800000\\\\\":87.7099990845,\\\\\"1730869200000\\\\\":92.5100021362,\\\\\"1730955600000\\\\\":95.6600036621,\\\\\"1731042000000\\\\\":91.25,\\\\\"1731301200000\\\\\":93.2300033569,\\\\\"1731387600000\\\\\":90.9100036621,\\\\\"1731474000000\\\\\":94.1600036621,\\\\\"1731560400000\\\\\":91.9300003052,\\\\\"1731646800000\\\\\":89.7699966431,\\\\\"1731906000000\\\\\":92.2900009155,\\\\\"1731992400000\\\\\":96.3700027466,\\\\\"1732078800000\\\\\":96.4700012207,\\\\\"1732165200000\\\\\":104.2399978638,\\\\\"1732251600000\\\\\":104.2300033569,\\\\\"1732510800000\\\\\":103.7300033569,\\\\\"1732597200000\\\\\":102.2300033569,\\\\\"1732683600000\\\\\":99.3700027466,\\\\\"1732856400000\\\\\":99.8300018311,\\\\\"1733115600000\\\\\":105.0500030518,\\\\\"1733202000000\\\\\":104.9100036621,\\\\\"1733288400000\\\\\":110.7200012207,\\\\\"1733374800000\\\\\":110.4599990845,\\\\\"1733461200000\\\\\":112.9599990845,\\\\\"1733720400000\\\\\":113.8700027466,\\\\\"1733806800000\\\\\":111.1999969482,\\\\\"1733893200000\\\\\":114.5100021362,\\\\\"1733979600000\\\\\":114.8899993896,\\\\\"1734066000000\\\\\":113.5999984741,\\\\\"1734325200000\\\\\":114.6500015259,\\\\\"1734411600000\\\\\":117.5599975586,\\\\\"1734498000000\\\\\":109.0999984741,\\\\\"1734584400000\\\\\":108.5800018311,\\\\\"1734670800000\\\\\":112.6900024414,\\\\\"1734930000000\\\\\":111.5800018311,\\\\\"1735016400000\\\\\":112.5800018311,\\\\\"1735189200000\\\\\":112.6100006104,\\\\\"1735275600000\\\\\":110.6100006104,\\\\\"1735534800000\\\\\":109.0299987793,\\\\\"1735621200000\\\\\":107.6800003052,\\\\\"1735794000000\\\\\":112.5400009155,\\\\\"1735880400000\\\\\":114.7300033569,\\\\\"1736139600000\\\\\":113.9899978638,\\\\\"1736226000000\\\\\":113.6699981689,\\\\\"1736312400000\\\\\":115.6999969482,\\\\\"1736485200000\\\\\":112.6200027466,\\\\\"1736744400000\\\\\":110.7099990845,\\\\\"1736830800000\\\\\":112.0,\\\\\"1736917200000\\\\\":114.4800033569,\\\\\"1737003600000\\\\\":114.8199996948,\\\\\"1737090000000\\\\\":117.1600036621,\\\\\"1737435600000\\\\\":119.8499984741,\\\\\"1737522000000\\\\\":123.0899963379,\\\\\"1737608400000\\\\\":123.9300003052,\\\\\"1737694800000\\\\\":125.1200027466},\\\\\"Volume\\\\\":{\\\\\"1729828800000\\\\\":1437300,\\\\\"1730088000000\\\\\":1396700,\\\\\"1730174400000\\\\\":1441500,\\\\\"1730260800000\\\\\":2402400,\\\\\"1730347200000\\\\\":2111100,\\\\\"1730433600000\\\\\":1963800,\\\\\"1730696400000\\\\\":2016900,\\\\\"1730782800000\\\\\":1920400,\\\\\"1730869200000\\\\\":2938400,\\\\\"1730955600000\\\\\":7095200,\\\\\"1731042000000\\\\\":7777200,\\\\\"1731301200000\\\\\":5152300,\\\\\"1731387600000\\\\\":2521200,\\\\\"1731474000000\\\\\":5786300,\\\\\"1731560400000\\\\\":2646400,\\\\\"1731646800000\\\\\":3373500,\\\\\"1731906000000\\\\\":3140600,\\\\\"1731992400000\\\\\":3554800,\\\\\"1732078800000\\\\\":2368300,\\\\\"1732165200000\\\\\":5690500,\\\\\"1732251600000\\\\\":3113400,\\\\\"1732510800000\\\\\":2816500,\\\\\"1732597200000\\\\\":2365100,\\\\\"1732683600000\\\\\":2340000,\\\\\"1732856400000\\\\\":1042400,\\\\\"1733115600000\\\\\":4588400,\\\\\"1733202000000\\\\\":1699400,\\\\\"1733288400000\\\\\":4434100,\\\\\"1733374800000\\\\\":3254400,\\\\\"1733461200000\\\\\":2745300,\\\\\"1733720400000\\\\\":3199100,\\\\\"1733806800000\\\\\":2703300,\\\\\"1733893200000\\\\\":2604100,\\\\\"1733979600000\\\\\":1633000,\\\\\"1734066000000\\\\\":1927900,\\\\\"1734325200000\\\\\":2197600,\\\\\"1734411600000\\\\\":3870400,\\\\\"1734498000000\\\\\":3932100,\\\\\"1734584400000\\\\\":3150600,\\\\\"1734670800000\\\\\":5114600,\\\\\"1734930000000\\\\\":1635900,\\\\\"1735016400000\\\\\":526500,\\\\\"1735189200000\\\\\":787100,\\\\\"1735275600000\\\\\":1496500,\\\\\"1735534800000\\\\\":1449200,\\\\\"1735621200000\\\\\":1292300,\\\\\"1735794000000\\\\\":3973200,\\\\\"1735880400000\\\\\":3157900,\\\\\"1736139600000\\\\\":2424500,\\\\\"1736226000000\\\\\":3628000,\\\\\"1736312400000\\\\\":3030000,\\\\\"1736485200000\\\\\":2292000,\\\\\"1736744400000\\\\\":2125900,\\\\\"1736830800000\\\\\":1928000,\\\\\"1736917200000\\\\\":2293300,\\\\\"1737003600000\\\\\":2058800,\\\\\"1737090000000\\\\\":3544100,\\\\\"1737435600000\\\\\":2700700,\\\\\"1737522000000\\\\\":2523900,\\\\\"1737608400000\\\\\":2602900,\\\\\"1737694800000\\\\\":2108600},\\\\\"Dividends\\\\\":{\\\\\"1729828800000\\\\\":0.0,\\\\\"1730088000000\\\\\":0.0,\\\\\"1730174400000\\\\\":0.0,\\\\\"1730260800000\\\\\":0.0,\\\\\"1730347200000\\\\\":0.0,\\\\\"1730433600000\\\\\":0.0,\\\\\"1730696400000\\\\\":0.0,\\\\\"1730782800000\\\\\":0.0,\\\\\"1730869200000\\\\\":0.0,\\\\\"1730955600000\\\\\":0.0,\\\\\"1731042000000\\\\\":0.0,\\\\\"1731301200000\\\\\":0.0,\\\\\"1731387600000\\\\\":0.0,\\\\\"1731474000000\\\\\":0.0,\\\\\"1731560400000\\\\\":0.0,\\\\\"1731646800000\\\\\":0.0,\\\\\"1731906000000\\\\\":0.0,\\\\\"1731992400000\\\\\":0.0,\\\\\"1732078800000\\\\\":0.0,\\\\\"1732165200000\\\\\":0.0,\\\\\"1732251600000\\\\\":0.0,\\\\\"1732510800000\\\\\":0.0,\\\\\"1732597200000\\\\\":0.0,\\\\\"1732683600000\\\\\":0.0,\\\\\"1732856400000\\\\\":0.0,\\\\\"1733115600000\\\\\":0.0,\\\\\"1733202000000\\\\\":0.0,\\\\\"1733288400000\\\\\":0.0,\\\\\"1733374800000\\\\\":0.0,\\\\\"1733461200000\\\\\":0.0,\\\\\"1733720400000\\\\\":0.0,\\\\\"1733806800000\\\\\":0.0,\\\\\"1733893200000\\\\\":0.0,\\\\\"1733979600000\\\\\":0.0,\\\\\"1734066000000\\\\\":0.0,\\\\\"1734325200000\\\\\":0.0,\\\\\"1734411600000\\\\\":0.0,\\\\\"1734498000000\\\\\":0.0,\\\\\"1734584400000\\\\\":0.0,\\\\\"1734670800000\\\\\":0.0,\\\\\"1734930000000\\\\\":0.0,\\\\\"1735016400000\\\\\":0.0,\\\\\"1735189200000\\\\\":0.0,\\\\\"1735275600000\\\\\":0.0,\\\\\"1735534800000\\\\\":0.0,\\\\\"1735621200000\\\\\":0.0,\\\\\"1735794000000\\\\\":0.0,\\\\\"1735880400000\\\\\":0.0,\\\\\"1736139600000\\\\\":0.0,\\\\\"1736226000000\\\\\":0.0,\\\\\"1736312400000\\\\\":0.0,\\\\\"1736485200000\\\\\":0.0,\\\\\"1736744400000\\\\\":0.0,\\\\\"1736830800000\\\\\":0.0,\\\\\"1736917200000\\\\\":0.0,\\\\\"1737003600000\\\\\":0.0,\\\\\"1737090000000\\\\\":0.0,\\\\\"1737435600000\\\\\":0.0,\\\\\"1737522000000\\\\\":0.0,\\\\\"1737608400000\\\\\":0.0,\\\\\"1737694800000\\\\\":0.0},\\\\\"Stock Splits\\\\\":{\\\\\"1729828800000\\\\\":0.0,\\\\\"1730088000000\\\\\":0.0,\\\\\"1730174400000\\\\\":0.0,\\\\\"1730260800000\\\\\":0.0,\\\\\"1730347200000\\\\\":0.0,\\\\\"1730433600000\\\\\":0.0,\\\\\"1730696400000\\\\\":0.0,\\\\\"1730782800000\\\\\":0.0,\\\\\"1730869200000\\\\\":0.0,\\\\\"1730955600000\\\\\":0.0,\\\\\"1731042000000\\\\\":0.0,\\\\\"1731301200000\\\\\":0.0,\\\\\"1731387600000\\\\\":0.0,\\\\\"1731474000000\\\\\":0.0,\\\\\"1731560400000\\\\\":0.0,\\\\\"1731646800000\\\\\":0.0,\\\\\"1731906000000\\\\\":0.0,\\\\\"1731992400000\\\\\":0.0,\\\\\"1732078800000\\\\\":0.0,\\\\\"1732165200000\\\\\":0.0,\\\\\"1732251600000\\\\\":0.0,\\\\\"1732510800000\\\\\":0.0,\\\\\"1732597200000\\\\\":0.0,\\\\\"1732683600000\\\\\":0.0,\\\\\"1732856400000\\\\\":0.0,\\\\\"1733115600000\\\\\":0.0,\\\\\"1733202000000\\\\\":0.0,\\\\\"1733288400000\\\\\":0.0,\\\\\"1733374800000\\\\\":0.0,\\\\\"1733461200000\\\\\":0.0,\\\\\"1733720400000\\\\\":0.0,\\\\\"1733806800000\\\\\":0.0,\\\\\"1733893200000\\\\\":0.0,\\\\\"1733979600000\\\\\":0.0,\\\\\"1734066000000\\\\\":0.0,\\\\\"1734325200000\\\\\":0.0,\\\\\"1734411600000\\\\\":0.0,\\\\\"1734498000000\\\\\":0.0,\\\\\"1734584400000\\\\\":0.0,\\\\\"1734670800000\\\\\":0.0,\\\\\"1734930000000\\\\\":0.0,\\\\\"1735016400000\\\\\":0.0,\\\\\"1735189200000\\\\\":0.0,\\\\\"1735275600000\\\\\":0.0,\\\\\"1735534800000\\\\\":0.0,\\\\\"1735621200000\\\\\":0.0,\\\\\"1735794000000\\\\\":0.0,\\\\\"1735880400000\\\\\":0.0,\\\\\"1736139600000\\\\\":0.0,\\\\\"1736226000000\\\\\":0.0,\\\\\"1736312400000\\\\\":0.0,\\\\\"1736485200000\\\\\":0.0,\\\\\"1736744400000\\\\\":0.0,\\\\\"1736830800000\\\\\":0.0,\\\\\"1736917200000\\\\\":0.0,\\\\\"1737003600000\\\\\":0.0,\\\\\"1737090000000\\\\\":0.0,\\\\\"1737435600000\\\\\":0.0,\\\\\"1737522000000\\\\\":0.0,\\\\\"1737608400000\\\\\":0.0,\\\\\"1737694800000\\\\\":0.0}}\"'"
      ]
     },
     "execution_count": 15,
     "metadata": {},
     "output_type": "execute_result"
    }
   ],
   "source": [
    "get_daily_stock_performance(ticker)"
   ]
  },
  {
   "cell_type": "code",
   "execution_count": 16,
   "metadata": {},
   "outputs": [
    {
     "data": {
      "text/plain": [
       "'\"{\\\\\"1703980800000\\\\\":{\\\\\"Treasury Shares Number\\\\\":0.0,\\\\\"Ordinary Shares Number\\\\\":337532000.0,\\\\\"Share Issued\\\\\":337532000.0,\\\\\"Net Debt\\\\\":1196498000.0,\\\\\"Total Debt\\\\\":1435203000.0,\\\\\"Tangible Book Value\\\\\":595436000.0,\\\\\"Invested Capital\\\\\":2046409000.0,\\\\\"Working Capital\\\\\":1415993000.0,\\\\\"Net Tangible Assets\\\\\":595436000.0,\\\\\"Capital Lease Obligations\\\\\":151841000.0,\\\\\"Common Stock Equity\\\\\":763047000.0,\\\\\"Total Capitalization\\\\\":2046409000.0,\\\\\"Total Equity Gross Minority Interest\\\\\":763047000.0,\\\\\"Stockholders Equity\\\\\":763047000.0,\\\\\"Other Equity Interest\\\\\":null,\\\\\"Gains Losses Not Affecting Retained Earnings\\\\\":1984000.0,\\\\\"Other Equity Adjustments\\\\\":1984000.0,\\\\\"Retained Earnings\\\\\":-1023840000.0,\\\\\"Additional Paid In Capital\\\\\":1784566000.0,\\\\\"Capital Stock\\\\\":337000.0,\\\\\"Common Stock\\\\\":337000.0,\\\\\"Total Liabilities Net Minority Interest\\\\\":1996720000.0,\\\\\"Total Non Current Liabilities Net Minority Interest\\\\\":1429636000.0,\\\\\"Other Non Current Liabilities\\\\\":15540000.0,\\\\\"Tradeand Other Payables Non Current\\\\\":null,\\\\\"Non Current Deferred Liabilities\\\\\":17244000.0,\\\\\"Non Current Deferred Revenue\\\\\":17244000.0,\\\\\"Long Term Debt And Capital Lease Obligation\\\\\":1396852000.0,\\\\\"Long Term Capital Lease Obligation\\\\\":113490000.0,\\\\\"Long Term Debt\\\\\":1283362000.0,\\\\\"Current Liabilities\\\\\":567084000.0,\\\\\"Other Current Liabilities\\\\\":null,\\\\\"Current Deferred Liabilities\\\\\":347608000.0,\\\\\"Current Deferred Revenue\\\\\":347608000.0,\\\\\"Current Debt And Capital Lease Obligation\\\\\":38351000.0,\\\\\"Current Capital Lease Obligation\\\\\":38351000.0,\\\\\"Current Debt\\\\\":null,\\\\\"Other Current Borrowings\\\\\":null,\\\\\"Pensionand Other Post Retirement Benefit Plans Current\\\\\":63801000.0,\\\\\"Payables And Accrued Expenses\\\\\":117324000.0,\\\\\"Current Accrued Expenses\\\\\":63597000.0,\\\\\"Payables\\\\\":53727000.0,\\\\\"Accounts Payable\\\\\":53727000.0,\\\\\"Total Assets\\\\\":2759767000.0,\\\\\"Total Non Current Assets\\\\\":776690000.0,\\\\\"Other Non Current Assets\\\\\":14474000.0,\\\\\"Non Current Deferred Assets\\\\\":133236000.0,\\\\\"Goodwill And Other Intangible Assets\\\\\":167611000.0,\\\\\"Other Intangible Assets\\\\\":19564000.0,\\\\\"Goodwill\\\\\":148047000.0,\\\\\"Net PPE\\\\\":461369000.0,\\\\\"Accumulated Depreciation\\\\\":-218480000.0,\\\\\"Gross PPE\\\\\":679849000.0,\\\\\"Leases\\\\\":42984000.0,\\\\\"Construction In Progress\\\\\":45557000.0,\\\\\"Other Properties\\\\\":469677000.0,\\\\\"Machinery Furniture Equipment\\\\\":121631000.0,\\\\\"Buildings And Improvements\\\\\":null,\\\\\"Properties\\\\\":0.0,\\\\\"Current Assets\\\\\":1983077000.0,\\\\\"Other Current Assets\\\\\":47502000.0,\\\\\"Restricted Cash\\\\\":2522000.0,\\\\\"Prepaid Assets\\\\\":null,\\\\\"Receivables\\\\\":259309000.0,\\\\\"Other Receivables\\\\\":11041000.0,\\\\\"Accounts Receivable\\\\\":248268000.0,\\\\\"Allowance For Doubtful Accounts Receivable\\\\\":-5996000.0,\\\\\"Gross Accounts Receivable\\\\\":254264000.0,\\\\\"Cash Cash Equivalents And Short Term Investments\\\\\":1673744000.0,\\\\\"Other Short Term Investments\\\\\":1586880000.0,\\\\\"Cash And Cash Equivalents\\\\\":86864000.0,\\\\\"Cash Equivalents\\\\\":40035000.0,\\\\\"Cash Financial\\\\\":46829000.0},\\\\\"1672444800000\\\\\":{\\\\\"Treasury Shares Number\\\\\":null,\\\\\"Ordinary Shares Number\\\\\":330086000.0,\\\\\"Share Issued\\\\\":330086000.0,\\\\\"Net Debt\\\\\":1232014000.0,\\\\\"Total Debt\\\\\":1577091000.0,\\\\\"Tangible Book Value\\\\\":443434000.0,\\\\\"Invested Capital\\\\\":2060156000.0,\\\\\"Working Capital\\\\\":1490014000.0,\\\\\"Net Tangible Assets\\\\\":443434000.0,\\\\\"Capital Lease Obligations\\\\\":140899000.0,\\\\\"Common Stock Equity\\\\\":623964000.0,\\\\\"Total Capitalization\\\\\":2060156000.0,\\\\\"Total Equity Gross Minority Interest\\\\\":623964000.0,\\\\\"Stockholders Equity\\\\\":623964000.0,\\\\\"Other Equity Interest\\\\\":null,\\\\\"Gains Losses Not Affecting Retained Earnings\\\\\":-11896000.0,\\\\\"Other Equity Adjustments\\\\\":-11896000.0,\\\\\"Retained Earnings\\\\\":-839891000.0,\\\\\"Additional Paid In Capital\\\\\":1475423000.0,\\\\\"Capital Stock\\\\\":328000.0,\\\\\"Common Stock\\\\\":328000.0,\\\\\"Total Liabilities Net Minority Interest\\\\\":1963944000.0,\\\\\"Total Non Current Liabilities Net Minority Interest\\\\\":1566074000.0,\\\\\"Other Non Current Liabilities\\\\\":10526000.0,\\\\\"Tradeand Other Payables Non Current\\\\\":null,\\\\\"Non Current Deferred Liabilities\\\\\":11732000.0,\\\\\"Non Current Deferred Revenue\\\\\":11732000.0,\\\\\"Long Term Debt And Capital Lease Obligation\\\\\":1543816000.0,\\\\\"Long Term Capital Lease Obligation\\\\\":107624000.0,\\\\\"Long Term Debt\\\\\":1436192000.0,\\\\\"Current Liabilities\\\\\":397870000.0,\\\\\"Other Current Liabilities\\\\\":1902000.0,\\\\\"Current Deferred Liabilities\\\\\":218647000.0,\\\\\"Current Deferred Revenue\\\\\":218647000.0,\\\\\"Current Debt And Capital Lease Obligation\\\\\":33275000.0,\\\\\"Current Capital Lease Obligation\\\\\":33275000.0,\\\\\"Current Debt\\\\\":null,\\\\\"Other Current Borrowings\\\\\":null,\\\\\"Pensionand Other Post Retirement Benefit Plans Current\\\\\":42014000.0,\\\\\"Payables And Accrued Expenses\\\\\":103934000.0,\\\\\"Current Accrued Expenses\\\\\":68327000.0,\\\\\"Payables\\\\\":35607000.0,\\\\\"Accounts Payable\\\\\":35607000.0,\\\\\"Total Assets\\\\\":2587908000.0,\\\\\"Total Non Current Assets\\\\\":700024000.0,\\\\\"Other Non Current Assets\\\\\":7389000.0,\\\\\"Non Current Deferred Assets\\\\\":93145000.0,\\\\\"Goodwill And Other Intangible Assets\\\\\":180530000.0,\\\\\"Other Intangible Assets\\\\\":32483000.0,\\\\\"Goodwill\\\\\":148047000.0,\\\\\"Net PPE\\\\\":418960000.0,\\\\\"Accumulated Depreciation\\\\\":-178901000.0,\\\\\"Gross PPE\\\\\":597861000.0,\\\\\"Leases\\\\\":20392000.0,\\\\\"Construction In Progress\\\\\":72827000.0,\\\\\"Other Properties\\\\\":373015000.0,\\\\\"Machinery Furniture Equipment\\\\\":131627000.0,\\\\\"Buildings And Improvements\\\\\":null,\\\\\"Properties\\\\\":0.0,\\\\\"Current Assets\\\\\":1887884000.0,\\\\\"Other Current Assets\\\\\":70556000.0,\\\\\"Restricted Cash\\\\\":10555000.0,\\\\\"Prepaid Assets\\\\\":null,\\\\\"Receivables\\\\\":156836000.0,\\\\\"Other Receivables\\\\\":8292000.0,\\\\\"Accounts Receivable\\\\\":148544000.0,\\\\\"Allowance For Doubtful Accounts Receivable\\\\\":-3134000.0,\\\\\"Gross Accounts Receivable\\\\\":151678000.0,\\\\\"Cash Cash Equivalents And Short Term Investments\\\\\":1649937000.0,\\\\\"Other Short Term Investments\\\\\":1445759000.0,\\\\\"Cash And Cash Equivalents\\\\\":204178000.0,\\\\\"Cash Equivalents\\\\\":127014000.0,\\\\\"Cash Financial\\\\\":77164000.0},\\\\\"1640908800000\\\\\":{\\\\\"Treasury Shares Number\\\\\":null,\\\\\"Ordinary Shares Number\\\\\":323612000.0,\\\\\"Share Issued\\\\\":323612000.0,\\\\\"Net Debt\\\\\":845217000.0,\\\\\"Total Debt\\\\\":1293206000.0,\\\\\"Tangible Book Value\\\\\":791014000.0,\\\\\"Invested Capital\\\\\":1974792000.0,\\\\\"Working Capital\\\\\":1667291000.0,\\\\\"Net Tangible Assets\\\\\":791014000.0,\\\\\"Capital Lease Obligations\\\\\":134212000.0,\\\\\"Common Stock Equity\\\\\":815798000.0,\\\\\"Total Capitalization\\\\\":1962675000.0,\\\\\"Total Equity Gross Minority Interest\\\\\":815798000.0,\\\\\"Stockholders Equity\\\\\":815798000.0,\\\\\"Other Equity Interest\\\\\":4439000.0,\\\\\"Gains Losses Not Affecting Retained Earnings\\\\\":-2645000.0,\\\\\"Other Equity Adjustments\\\\\":-2645000.0,\\\\\"Retained Earnings\\\\\":-680829000.0,\\\\\"Additional Paid In Capital\\\\\":1494512000.0,\\\\\"Capital Stock\\\\\":321000.0,\\\\\"Common Stock\\\\\":321000.0,\\\\\"Total Liabilities Net Minority Interest\\\\\":1556273000.0,\\\\\"Total Non Current Liabilities Net Minority Interest\\\\\":1267708000.0,\\\\\"Other Non Current Liabilities\\\\\":7114000.0,\\\\\"Tradeand Other Payables Non Current\\\\\":null,\\\\\"Non Current Deferred Liabilities\\\\\":4680000.0,\\\\\"Non Current Deferred Revenue\\\\\":4680000.0,\\\\\"Long Term Debt And Capital Lease Obligation\\\\\":1255914000.0,\\\\\"Long Term Capital Lease Obligation\\\\\":109037000.0,\\\\\"Long Term Debt\\\\\":1146877000.0,\\\\\"Current Liabilities\\\\\":288565000.0,\\\\\"Other Current Liabilities\\\\\":4651000.0,\\\\\"Current Deferred Liabilities\\\\\":116546000.0,\\\\\"Current Deferred Revenue\\\\\":116546000.0,\\\\\"Current Debt And Capital Lease Obligation\\\\\":37292000.0,\\\\\"Current Capital Lease Obligation\\\\\":25175000.0,\\\\\"Current Debt\\\\\":12117000.0,\\\\\"Other Current Borrowings\\\\\":12117000.0,\\\\\"Pensionand Other Post Retirement Benefit Plans Current\\\\\":65905000.0,\\\\\"Payables And Accrued Expenses\\\\\":64171000.0,\\\\\"Current Accrued Expenses\\\\\":38085000.0,\\\\\"Payables\\\\\":26086000.0,\\\\\"Accounts Payable\\\\\":26086000.0,\\\\\"Total Assets\\\\\":2372071000.0,\\\\\"Total Non Current Assets\\\\\":416215000.0,\\\\\"Other Non Current Assets\\\\\":7061000.0,\\\\\"Non Current Deferred Assets\\\\\":70320000.0,\\\\\"Goodwill And Other Intangible Assets\\\\\":24784000.0,\\\\\"Other Intangible Assets\\\\\":1254000.0,\\\\\"Goodwill\\\\\":23530000.0,\\\\\"Net PPE\\\\\":314050000.0,\\\\\"Accumulated Depreciation\\\\\":-120213000.0,\\\\\"Gross PPE\\\\\":434263000.0,\\\\\"Leases\\\\\":12892000.0,\\\\\"Construction In Progress\\\\\":41424000.0,\\\\\"Other Properties\\\\\":282206000.0,\\\\\"Machinery Furniture Equipment\\\\\":97741000.0,\\\\\"Buildings And Improvements\\\\\":null,\\\\\"Properties\\\\\":0.0,\\\\\"Current Assets\\\\\":1955856000.0,\\\\\"Other Current Assets\\\\\":29433000.0,\\\\\"Restricted Cash\\\\\":2958000.0,\\\\\"Prepaid Assets\\\\\":29433000.0,\\\\\"Receivables\\\\\":101622000.0,\\\\\"Other Receivables\\\\\":6079000.0,\\\\\"Accounts Receivable\\\\\":95543000.0,\\\\\"Allowance For Doubtful Accounts Receivable\\\\\":-2644000.0,\\\\\"Gross Accounts Receivable\\\\\":98187000.0,\\\\\"Cash Cash Equivalents And Short Term Investments\\\\\":1821843000.0,\\\\\"Other Short Term Investments\\\\\":1508066000.0,\\\\\"Cash And Cash Equivalents\\\\\":313777000.0,\\\\\"Cash Equivalents\\\\\":313777000.0,\\\\\"Cash Financial\\\\\":64021000.0},\\\\\"1609372800000\\\\\":{\\\\\"Treasury Shares Number\\\\\":null,\\\\\"Ordinary Shares Number\\\\\":308640000.0,\\\\\"Share Issued\\\\\":308640000.0,\\\\\"Net Debt\\\\\":274380000.0,\\\\\"Total Debt\\\\\":428301000.0,\\\\\"Tangible Book Value\\\\\":796973000.0,\\\\\"Invested Capital\\\\\":1200215000.0,\\\\\"Working Capital\\\\\":988577000.0,\\\\\"Net Tangible Assets\\\\\":796973000.0,\\\\\"Capital Lease Obligations\\\\\":45026000.0,\\\\\"Common Stock Equity\\\\\":816940000.0,\\\\\"Total Capitalization\\\\\":1200215000.0,\\\\\"Total Equity Gross Minority Interest\\\\\":816940000.0,\\\\\"Stockholders Equity\\\\\":816940000.0,\\\\\"Other Equity Interest\\\\\":null,\\\\\"Gains Losses Not Affecting Retained Earnings\\\\\":163000.0,\\\\\"Other Equity Adjustments\\\\\":163000.0,\\\\\"Retained Earnings\\\\\":-420520000.0,\\\\\"Additional Paid In Capital\\\\\":1236993000.0,\\\\\"Capital Stock\\\\\":304000.0,\\\\\"Common Stock\\\\\":304000.0,\\\\\"Total Liabilities Net Minority Interest\\\\\":563711000.0,\\\\\"Total Non Current Liabilities Net Minority Interest\\\\\":422334000.0,\\\\\"Other Non Current Liabilities\\\\\":9859000.0,\\\\\"Tradeand Other Payables Non Current\\\\\":7033000.0,\\\\\"Non Current Deferred Liabilities\\\\\":1891000.0,\\\\\"Non Current Deferred Revenue\\\\\":1891000.0,\\\\\"Long Term Debt And Capital Lease Obligation\\\\\":410584000.0,\\\\\"Long Term Capital Lease Obligation\\\\\":27309000.0,\\\\\"Long Term Debt\\\\\":383275000.0,\\\\\"Current Liabilities\\\\\":141377000.0,\\\\\"Other Current Liabilities\\\\\":8603000.0,\\\\\"Current Deferred Liabilities\\\\\":54945000.0,\\\\\"Current Deferred Revenue\\\\\":54945000.0,\\\\\"Current Debt And Capital Lease Obligation\\\\\":17717000.0,\\\\\"Current Capital Lease Obligation\\\\\":17717000.0,\\\\\"Current Debt\\\\\":null,\\\\\"Other Current Borrowings\\\\\":null,\\\\\"Pensionand Other Post Retirement Benefit Plans Current\\\\\":25410000.0,\\\\\"Payables And Accrued Expenses\\\\\":34702000.0,\\\\\"Current Accrued Expenses\\\\\":20217000.0,\\\\\"Payables\\\\\":14485000.0,\\\\\"Accounts Payable\\\\\":14485000.0,\\\\\"Total Assets\\\\\":1380651000.0,\\\\\"Total Non Current Assets\\\\\":250697000.0,\\\\\"Other Non Current Assets\\\\\":19718000.0,\\\\\"Non Current Deferred Assets\\\\\":44176000.0,\\\\\"Goodwill And Other Intangible Assets\\\\\":19967000.0,\\\\\"Other Intangible Assets\\\\\":2800000.0,\\\\\"Goodwill\\\\\":17167000.0,\\\\\"Net PPE\\\\\":166836000.0,\\\\\"Accumulated Depreciation\\\\\":-82608000.0,\\\\\"Gross PPE\\\\\":249444000.0,\\\\\"Leases\\\\\":10686000.0,\\\\\"Construction In Progress\\\\\":11242000.0,\\\\\"Other Properties\\\\\":152566000.0,\\\\\"Machinery Furniture Equipment\\\\\":74950000.0,\\\\\"Buildings And Improvements\\\\\":0.0,\\\\\"Properties\\\\\":0.0,\\\\\"Current Assets\\\\\":1129954000.0,\\\\\"Other Current Assets\\\\\":10295000.0,\\\\\"Restricted Cash\\\\\":2591000.0,\\\\\"Prepaid Assets\\\\\":28230000.0,\\\\\"Receivables\\\\\":67037000.0,\\\\\"Other Receivables\\\\\":3538000.0,\\\\\"Accounts Receivable\\\\\":63499000.0,\\\\\"Allowance For Doubtful Accounts Receivable\\\\\":-1703000.0,\\\\\"Gross Accounts Receivable\\\\\":65202000.0,\\\\\"Cash Cash Equivalents And Short Term Investments\\\\\":1032096000.0,\\\\\"Other Short Term Investments\\\\\":923201000.0,\\\\\"Cash And Cash Equivalents\\\\\":108895000.0,\\\\\"Cash Equivalents\\\\\":89372000.0,\\\\\"Cash Financial\\\\\":19523000.0}}\"'"
      ]
     },
     "execution_count": 16,
     "metadata": {},
     "output_type": "execute_result"
    }
   ],
   "source": [
    "get_balance_sheet(ticker)"
   ]
  }
 ],
 "metadata": {
  "kernelspec": {
   "display_name": "env",
   "language": "python",
   "name": "python3"
  },
  "language_info": {
   "codemirror_mode": {
    "name": "ipython",
    "version": 3
   },
   "file_extension": ".py",
   "mimetype": "text/x-python",
   "name": "python",
   "nbconvert_exporter": "python",
   "pygments_lexer": "ipython3",
   "version": "3.11.6"
  }
 },
 "nbformat": 4,
 "nbformat_minor": 2
}
