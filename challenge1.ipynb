{
 "cells": [
  {
   "cell_type": "code",
   "execution_count": 16,
   "metadata": {},
   "outputs": [
    {
     "name": "stdout",
     "output_type": "stream",
     "text": [
      "파이썬의 매력 너무나도 아름다워  \n",
      "간결하고 강력한 코드로 세상을 밝혀  \n",
      "들여다보면 모든 것이 가능한 그 곳  \n",
      "파이썬이여, 너는 나의 영원한 친구."
     ]
    },
    {
     "data": {
      "text/plain": [
       "AIMessageChunk(content='파이썬의 매력 너무나도 아름다워  \\n간결하고 강력한 코드로 세상을 밝혀  \\n들여다보면 모든 것이 가능한 그 곳  \\n파이썬이여, 너는 나의 영원한 친구.')"
      ]
     },
     "execution_count": 16,
     "metadata": {},
     "output_type": "execute_result"
    }
   ],
   "source": [
    "from langchain.chat_models import ChatOpenAI\n",
    "from langchain.prompts import ChatPromptTemplate\n",
    "from langchain.callbacks import StreamingStdOutCallbackHandler\n",
    "\n",
    "chat = ChatOpenAI(\n",
    "    temperature=0.2, \n",
    "    model=\"gpt-3.5-turbo\",\n",
    "    streaming=True,\n",
    "    callbacks=[StreamingStdOutCallbackHandler()]\n",
    ")\n",
    "\n",
    "template_poem = ChatPromptTemplate.from_messages([\n",
    "    (\"system\", \"너는 시를 지어주는 작가야. 내가 프로그래밍 언어의 이름을 알려주면 그 이름을 주제로 짧은 시를 지을거야.\"),\n",
    "    (\"human\", \"주제는 {language_name}으로 해줘.\"),\n",
    "])\n",
    "\n",
    "# prompt = template.format_messages(language_name=\"Python\")\n",
    "\n",
    "# chat.predict_messages(prompt)\n",
    "\n",
    "poem = template_poem | chat\n",
    "poem.invoke({\"language_name\":\"Python\"})"
   ]
  },
  {
   "cell_type": "code",
   "execution_count": null,
   "metadata": {},
   "outputs": [
    {
     "name": "stdout",
     "output_type": "stream",
     "text": [
      "파이썬의 빛나는 꼬리,\n",
      "코드를 풀어낸다 마치 마법사.\n",
      "간결하고 강력한 그 모습,\n",
      "개발자들의 마음을 사로잡는다.이 시는 파이썬 프로그래밍 언어에 대한 찬사를 담고 있습니다. 시인은 파이썬을 \"빛나는 꼬리\"로 비유하며, 코드를 작성하는 것이 마법을 부리는 마법사와 같다고 표현합니다. 또한 파이썬의 간결하고 강력한 모습이 개발자들의 마음을 사로잡는다고 묘사하고 있습니다. 이 시는 파이썬의 매력과 효율성을 칭찬하며, 개발자들 사이에서 파이썬이 얼마나 사랑받고 있는지를 감정적으로 표현하고 있습니다."
     ]
    },
    {
     "data": {
      "text/plain": [
       "AIMessageChunk(content='이 시는 파이썬 프로그래밍 언어에 대한 찬사를 담고 있습니다. 시인은 파이썬을 \"빛나는 꼬리\"로 비유하며, 코드를 작성하는 것이 마법을 부리는 마법사와 같다고 표현합니다. 또한 파이썬의 간결하고 강력한 모습이 개발자들의 마음을 사로잡는다고 묘사하고 있습니다. 이 시는 파이썬의 매력과 효율성을 칭찬하며, 개발자들 사이에서 파이썬이 얼마나 사랑받고 있는지를 감정적으로 표현하고 있습니다.')"
      ]
     },
     "execution_count": 19,
     "metadata": {},
     "output_type": "execute_result"
    }
   ],
   "source": [
    "template_description = ChatPromptTemplate.from_messages([\n",
    "    (\"system\", \"너는 시를 해석해주는 평론가야. 작가봇이 어떤 시를 지었는지 적어주고, 그 시를 읽고 해석해주면 돼.\"),\n",
    "    (\"human\", \"{poem} 시를 해석해줘.\"),\n",
    "])\n",
    "\n",
    "description = template_description | chat\n",
    "\n",
    "final_chain = {\"poem\":poem} | description\n",
    "\n",
    "final_chain_result = final_chain.invoke({\"language_name\":\"python\"})\n",
    "\n",
    "final_chain_result"
   ]
  }
 ],
 "metadata": {
  "kernelspec": {
   "display_name": "env",
   "language": "python",
   "name": "python3"
  },
  "language_info": {
   "codemirror_mode": {
    "name": "ipython",
    "version": 3
   },
   "file_extension": ".py",
   "mimetype": "text/x-python",
   "name": "python",
   "nbconvert_exporter": "python",
   "pygments_lexer": "ipython3",
   "version": "3.11.6"
  }
 },
 "nbformat": 4,
 "nbformat_minor": 2
}
