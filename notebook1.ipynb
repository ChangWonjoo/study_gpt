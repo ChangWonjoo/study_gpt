{
 "cells": [
  {
   "cell_type": "code",
   "execution_count": 7,
   "metadata": {},
   "outputs": [],
   "source": [
    "from langchain.chat_models import ChatOpenAI\n",
    "from langchain.prompts import ChatPromptTemplate\n",
    "from langchain.callbacks import StreamingStdOutCallbackHandler\n",
    "\n",
    "chat = ChatOpenAI(\n",
    "    temperature=0.1, \n",
    "    streaming=True,\n",
    "    callbacks=[StreamingStdOutCallbackHandler(),]\n",
    "    )\n",
    "\n",
    "chef_prompt = ChatPromptTemplate.from_messages([\n",
    "    (\"system\", \"You are a world-class international chef. You create easy to follow recipies for any type of cuisine with easy to find ingredients.\"),\n",
    "    (\"human\", \"I want to cook {cuisine} food.\")\n",
    "])\n",
    "\n",
    "chef_chain = chef_prompt | chat"
   ]
  },
  {
   "cell_type": "code",
   "execution_count": 8,
   "metadata": {},
   "outputs": [
    {
     "name": "stdout",
     "output_type": "stream",
     "text": [
      "Great choice! Italian cuisine is known for its delicious flavors and simple ingredients. Let's start with a classic recipe for Spaghetti Aglio e Olio, a traditional Italian pasta dish that is quick and easy to make.\n",
      "\n",
      "Ingredients:\n",
      "- 8 oz spaghetti\n",
      "- 4 cloves of garlic, thinly sliced\n",
      "- 1/4 cup extra virgin olive oil\n",
      "- 1/2 tsp red pepper flakes\n",
      "- Salt and pepper to taste\n",
      "- Fresh parsley, chopped (for garnish)\n",
      "- Grated Parmesan cheese (optional)\n",
      "\n",
      "Instructions:\n",
      "1. Cook the spaghetti according to the package instructions in a large pot of salted boiling water until al dente. Reserve 1 cup of pasta water before draining the spaghetti.\n",
      "\n",
      "2. In a large skillet, heat the olive oil over medium heat. Add the sliced garlic and red pepper flakes, and sauté until the garlic is golden brown and fragrant, about 1-2 minutes. Be careful not to burn the garlic.\n",
      "\n",
      "3. Add the cooked spaghetti to the skillet, along with a splash of the reserved pasta water. Toss the spaghetti in the garlic-infused oil until well coated. If the pasta seems dry, add more pasta water as needed.\n",
      "\n",
      "4. Season the spaghetti with salt and pepper to taste. Toss to combine.\n",
      "\n",
      "5. Remove the skillet from heat and garnish the spaghetti aglio e olio with chopped parsley and grated Parmesan cheese, if desired.\n",
      "\n",
      "6. Serve the spaghetti aglio e olio hot, with an extra sprinkle of red pepper flakes and Parmesan cheese on top.\n",
      "\n",
      "Enjoy your homemade Italian meal! Buon appetito!For this classic Spaghetti Aglio e Olio recipe, there are a few simple swaps you can make to keep it vegetarian-friendly:\n",
      "\n",
      "1. **Parmesan Cheese**: If you're looking for a vegetarian alternative to Parmesan cheese, you can use a vegetarian-friendly hard cheese such as Parmesan-style vegetarian cheese or a vegetarian-friendly alternative like nutritional yeast. These options will still provide a cheesy flavor to the dish.\n",
      "\n",
      "2. **Red Pepper Flakes**: Red pepper flakes are vegetarian-friendly, so no need to make any substitutions here.\n",
      "\n",
      "3. **Extra Virgin Olive Oil**: Olive oil is a vegetarian staple and a key ingredient in this recipe, so no changes needed.\n",
      "\n",
      "4. **Spaghetti**: Traditional spaghetti is typically made with durum wheat, which is vegetarian-friendly.\n",
      "\n",
      "5. **Garlic**: Garlic is a vegetarian-friendly ingredient, so no substitutions needed here.\n",
      "\n",
      "6. **Fresh Parsley**: Fresh parsley is a vegetarian-friendly herb that adds a pop of freshness to the dish.\n",
      "\n",
      "Overall, this recipe is already vegetarian-friendly with just a couple of minor adjustments. Enjoy your delicious vegetarian Spaghetti Aglio e Olio! Buon appetito!"
     ]
    },
    {
     "data": {
      "text/plain": [
       "AIMessageChunk(content=\"For this classic Spaghetti Aglio e Olio recipe, there are a few simple swaps you can make to keep it vegetarian-friendly:\\n\\n1. **Parmesan Cheese**: If you're looking for a vegetarian alternative to Parmesan cheese, you can use a vegetarian-friendly hard cheese such as Parmesan-style vegetarian cheese or a vegetarian-friendly alternative like nutritional yeast. These options will still provide a cheesy flavor to the dish.\\n\\n2. **Red Pepper Flakes**: Red pepper flakes are vegetarian-friendly, so no need to make any substitutions here.\\n\\n3. **Extra Virgin Olive Oil**: Olive oil is a vegetarian staple and a key ingredient in this recipe, so no changes needed.\\n\\n4. **Spaghetti**: Traditional spaghetti is typically made with durum wheat, which is vegetarian-friendly.\\n\\n5. **Garlic**: Garlic is a vegetarian-friendly ingredient, so no substitutions needed here.\\n\\n6. **Fresh Parsley**: Fresh parsley is a vegetarian-friendly herb that adds a pop of freshness to the dish.\\n\\nOverall, this recipe is already vegetarian-friendly with just a couple of minor adjustments. Enjoy your delicious vegetarian Spaghetti Aglio e Olio! Buon appetito!\")"
      ]
     },
     "execution_count": 8,
     "metadata": {},
     "output_type": "execute_result"
    }
   ],
   "source": [
    "veg_chef_pprompt  = ChatPromptTemplate.from_messages({\n",
    "    (\"system\", \"You are a vegetarian chef specialized on making traditional recipies vegetarian. You find alternative ingredients and explain their preparation. You don't radically modify the recipe. If there is no alternative for a food just say you don't know how to replace it.\"),\n",
    "    (\"human\", \"{recipe}\")\n",
    "})\n",
    "\n",
    "veg_chain = veg_chef_pprompt | chat\n",
    "\n",
    "final_chain = {\"recipe\":chef_chain} | veg_chain\n",
    "\n",
    "final_chain.invoke({\n",
    "    \"cuisine\":\"italian\",\n",
    "})"
   ]
  }
 ],
 "metadata": {
  "kernelspec": {
   "display_name": "env",
   "language": "python",
   "name": "python3"
  },
  "language_info": {
   "codemirror_mode": {
    "name": "ipython",
    "version": 3
   },
   "file_extension": ".py",
   "mimetype": "text/x-python",
   "name": "python",
   "nbconvert_exporter": "python",
   "pygments_lexer": "ipython3",
   "version": "3.11.6"
  }
 },
 "nbformat": 4,
 "nbformat_minor": 2
}
