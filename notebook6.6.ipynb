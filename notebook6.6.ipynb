{
 "cells": [
  {
   "cell_type": "code",
   "execution_count": 4,
   "metadata": {},
   "outputs": [
    {
     "name": "stderr",
     "output_type": "stream",
     "text": [
      "c:\\Users\\wonjooLAPTOP\\Dropbox\\github\\study_gpt\\env\\Lib\\site-packages\\langchain\\chains\\llm.py:369: UserWarning: The apply_and_parse method is deprecated, instead pass an output parser directly to LLMChain.\n",
      "  warnings.warn(\n"
     ]
    },
    {
     "data": {
      "text/plain": [
       "\"I don't know\""
      ]
     },
     "execution_count": 4,
     "metadata": {},
     "output_type": "execute_result"
    }
   ],
   "source": [
    "from langchain.chat_models import ChatOpenAI\n",
    "from langchain.document_loaders import UnstructuredFileLoader\n",
    "from langchain.text_splitter import CharacterTextSplitter\n",
    "\n",
    "from langchain.embeddings import OpenAIEmbeddings, CacheBackedEmbeddings\n",
    "from langchain.vectorstores import Chroma, FAISS\n",
    "from langchain.chains import RetrievalQA\n",
    "\n",
    "from langchain.storage import LocalFileStore\n",
    "from langchain.prompts import ChatPromptTemplate\n",
    "from langchain.schema.runnable import RunnablePassthrough\n",
    "\n",
    "# Create a chat model instance\n",
    "llm = ChatOpenAI(\n",
    "   temperature=0.1,\n",
    "#    streaming=True,\n",
    "#    callbacks=[StreamingStdOutCallbackHandler()],\n",
    ")\n",
    "\n",
    "loader = UnstructuredFileLoader(\"./files/묵향일부분.txt\")\n",
    "\n",
    "splitter = CharacterTextSplitter.from_tiktoken_encoder(\n",
    "    separator=\"\\n\",\n",
    "    chunk_size=600,\n",
    "    chunk_overlap=100,\n",
    "    # length_function=len,\n",
    ")\n",
    "\n",
    "embeddings = OpenAIEmbeddings()\n",
    "\n",
    "cache_dir = LocalFileStore(\"./cache/\")\n",
    "cached_embeddings = CacheBackedEmbeddings.from_bytes_store(embeddings,cache_dir,)\n",
    "\n",
    "\n",
    "docs = loader.load_and_split(text_splitter=splitter)\n",
    "\n",
    "vector_store = FAISS.from_documents(docs, cached_embeddings)\n",
    "\n",
    "chain = RetrievalQA.from_chain_type(\n",
    "    llm=llm,\n",
    "    chain_type=\"map_rerank\",\n",
    "    retriever=vector_store.as_retriever(),\n",
    ")\n",
    "\n",
    "chain.run(\"기사단장에 대해 설명해주세요\")"
   ]
  },
  {
   "cell_type": "code",
   "execution_count": null,
   "metadata": {},
   "outputs": [],
   "source": []
  },
  {
   "cell_type": "code",
   "execution_count": 6,
   "metadata": {},
   "outputs": [
    {
     "data": {
      "text/plain": [
       "[Document(page_content='었기에, 분위기가 좀 그렇기는 했지만 지미는 호기심을 참지 못하고 물었다.\\n\"유니콘을 문장으로 쓰는 나라가 어딘데요?\"\\n갑작스런 지미의 질문에 정신을 차린 파시르는 쓴웃음을 잠시 머금더니 내뱉듯 말했다.\\n\"레니아 근위 기사단의 문장이다. 저 강대한 크루마 제국의...\"\\n\"레니아 근위 기사단이라구요? 그렇다면 방금 그 타이탄들은 근위 타이탄이란 말입니까?\"\\n놀라서 묻는 지미의 얼굴을 힐끗 쳐다 본 파시르는 다시 드래곤이 쓰러져 있는 곳으로 시\\n선을 돌렸다.', metadata={'source': './files/묵향일부분.txt'}),\n",
       " Document(page_content='었기에, 분위기가 좀 그렇기는 했지만 지미는 호기심을 참지 못하고 물었다.\\n\"유니콘을 문장으로 쓰는 나라가 어딘데요?\"\\n갑작스런 지미의 질문에 정신을 차린 파시르는 쓴웃음을 잠시 머금더니 내뱉듯 말했다.\\n\"레니아 근위 기사단의 문장이다. 저 강대한 크루마 제국의...\"\\n\"레니아 근위 기사단이라구요? 그렇다면 방금 그 타이탄들은 근위 타이탄이란 말입니까?\"\\n놀라서 묻는 지미의 얼굴을 힐끗 쳐다 본 파시르는 다시 드래곤이 쓰러져 있는 곳으로 시\\n선을 돌렸다.', metadata={'source': './files/묵향일부분.txt'}),\n",
       " Document(page_content='절망 등 여러 가지 색채를 띠며 순간순간 변하고 있었다.\\n\"나는 옛날 론드바르 제국의 기사였다. 아직도 눈을 감으면 기억이 나지. 론드바르 최후의\\n날. 화염이 충천하던 왕궁, 비명을 지르며 뛰어가던 시민들... 나에게 힘이 없다는 것이 그렇\\n게도 원망스러웠던 적은 없었다. 시민들을 학살하고, 도시를 파괴하던 그 문장. 하얀 유니콘\\n의 문장을 절대로 잊을 수 없어.\"\\n파시르의 중얼거리는 말만으로는 도대체 유니콘을 문장으로 쓰는 제국이 어딘지 알 수 없', metadata={'source': './files/묵향일부분.txt'}),\n",
       " Document(page_content='절망 등 여러 가지 색채를 띠며 순간순간 변하고 있었다.\\n\"나는 옛날 론드바르 제국의 기사였다. 아직도 눈을 감으면 기억이 나지. 론드바르 최후의\\n날. 화염이 충천하던 왕궁, 비명을 지르며 뛰어가던 시민들... 나에게 힘이 없다는 것이 그렇\\n게도 원망스러웠던 적은 없었다. 시민들을 학살하고, 도시를 파괴하던 그 문장. 하얀 유니콘\\n의 문장을 절대로 잊을 수 없어.\"\\n파시르의 중얼거리는 말만으로는 도대체 유니콘을 문장으로 쓰는 제국이 어딘지 알 수 없', metadata={'source': './files/묵향일부분.txt'})]"
      ]
     },
     "execution_count": 6,
     "metadata": {},
     "output_type": "execute_result"
    }
   ],
   "source": [
    "result = vector_store.similarity_search(\"유니콘을 문장으로 쓰는 나라가 어딘가요?\")\n",
    "\n",
    "result"
   ]
  }
 ],
 "metadata": {
  "kernelspec": {
   "display_name": "env",
   "language": "python",
   "name": "python3"
  },
  "language_info": {
   "codemirror_mode": {
    "name": "ipython",
    "version": 3
   },
   "file_extension": ".py",
   "mimetype": "text/x-python",
   "name": "python",
   "nbconvert_exporter": "python",
   "pygments_lexer": "ipython3",
   "version": "3.11.6"
  }
 },
 "nbformat": 4,
 "nbformat_minor": 2
}
