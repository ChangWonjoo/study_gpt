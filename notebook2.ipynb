{
 "cells": [
  {
   "cell_type": "code",
   "execution_count": 6,
   "metadata": {},
   "outputs": [
    {
     "name": "stdout",
     "output_type": "stream",
     "text": [
      "\n",
      "       I know this:\n",
      "       There are two Koreas - North Korea and South Korea\n",
      "       Capital of South Korea: Seoul\n",
      "       Language: Korean\n",
      "       Food: Kimchi and Bibimbap\n",
      "       Currency: South Korean Won"
     ]
    },
    {
     "data": {
      "text/plain": [
       "AIMessageChunk(content='\\n       I know this:\\n       There are two Koreas - North Korea and South Korea\\n       Capital of South Korea: Seoul\\n       Language: Korean\\n       Food: Kimchi and Bibimbap\\n       Currency: South Korean Won')"
      ]
     },
     "execution_count": 6,
     "metadata": {},
     "output_type": "execute_result"
    }
   ],
   "source": [
    "from langchain.chat_models import ChatOpenAI   \n",
    "from langchain.prompts.few_shot import FewShotPromptTemplate, FewShotChatMessagePromptTemplate\n",
    "from langchain.callbacks import StreamingStdOutCallbackHandler\n",
    "from langchain.prompts import ChatPromptTemplate\n",
    "\n",
    "chat = ChatOpenAI(\n",
    "    temperature=0.1, \n",
    "    streaming=True,\n",
    "    callbacks=[\n",
    "        StreamingStdOutCallbackHandler(),\n",
    "        ]\n",
    "    )\n",
    "\n",
    "examples=[\n",
    "    {\n",
    "       \"question\": \"France\",\n",
    "       \"answer\": \"\"\"\n",
    "       Here is what I know:\n",
    "       Capital: Paris,\n",
    "       Language: French,\n",
    "       Food: Wine and Cheese,\n",
    "       Currency: Euro,\n",
    "       \"\"\",\n",
    "   },\n",
    "   {\n",
    "       \"question\": \"Italy\",\n",
    "       \"answer\": \"\"\"\n",
    "       I know this:\n",
    "       Capital: Rome\n",
    "       Language: Italian\n",
    "       Food: Pizza and Pasta\n",
    "       Currency: Euro\n",
    "       \"\"\",\n",
    "   },\n",
    "   {\n",
    "       \"question\": \"Greece\",\n",
    "       \"answer\": \"\"\"\n",
    "       I know this:\n",
    "       Capital: Athens\n",
    "       Language: Greek\n",
    "       Food: Souvlaki and Feta Cheese\n",
    "       Currency: Euro\n",
    "       \"\"\",\n",
    "   },\n",
    "]\n",
    "\n",
    "#{question} 과 {answer}의 변수 이름을 예저와 잘 맞춰줘야 한다.\n",
    "example_template = [\n",
    "    (\"human\",\"What do you know about {question}?\"),\n",
    "    (\"ai\",\"{answer}\")\n",
    "]\n",
    "\n",
    "example_prompt = ChatPromptTemplate.from_messages(example_template)\n",
    "\n",
    "# print(example_prompt)\n",
    "\n",
    "example_prompt = FewShotChatMessagePromptTemplate(\n",
    "    example_prompt=example_prompt,\n",
    "    examples=examples,\n",
    ")\n",
    "\n",
    "final_prompt = ChatPromptTemplate.from_messages([\n",
    "    (\"system\",\"You are a geography expaert. you give short answers.\"),\n",
    "    example_prompt,\n",
    "    (\"human\",\"What do you know about {country}?\"),\n",
    "])\n",
    "\n",
    "chain = final_prompt | chat \n",
    "\n",
    "chain.invoke({\n",
    "    \"country\": \"Korea\"\n",
    "})"
   ]
  },
  {
   "cell_type": "code",
   "execution_count": null,
   "metadata": {},
   "outputs": [],
   "source": []
  },
  {
   "cell_type": "markdown",
   "metadata": {},
   "source": []
  },
  {
   "cell_type": "code",
   "execution_count": null,
   "metadata": {},
   "outputs": [],
   "source": []
  }
 ],
 "metadata": {
  "kernelspec": {
   "display_name": "env",
   "language": "python",
   "name": "python3"
  },
  "language_info": {
   "codemirror_mode": {
    "name": "ipython",
    "version": 3
   },
   "file_extension": ".py",
   "mimetype": "text/x-python",
   "name": "python",
   "nbconvert_exporter": "python",
   "pygments_lexer": "ipython3",
   "version": "3.11.6"
  }
 },
 "nbformat": 4,
 "nbformat_minor": 2
}
