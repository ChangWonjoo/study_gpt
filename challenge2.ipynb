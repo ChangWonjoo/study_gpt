{
 "cells": [
  {
   "cell_type": "code",
   "execution_count": 6,
   "metadata": {},
   "outputs": [
    {
     "name": "stdout",
     "output_type": "stream",
     "text": [
      "\n",
      "            라이온 킹 (1994)\n",
      "            장르: 애니메이션, 드라마, 가족\n",
      "            감독: 로저 알러스, 로브 며스커\n",
      "            주요 출연진: 조나단 테일러 토마스 (심바 목소리), 마튜 브로데릭 (스카 목소리), 제임스 얼 존스 (무파사 목소리)\n",
      "            예산: 약 4,500만 달러\n",
      "            흥행 수익: 전 세계 약 9억 7,000만 달러\n",
      "            시놉시스: 사자 왕무파사와 왕비 사라바의 아들 심바는 아버지의 죽음으로 왕위를 물려받게 된다. 그러나 악랄한 삼촌 스카의 계략으로 심바는 무림으로 추방당하고, 자신의 고향을 되찾기 위해 여정을 떠난다. 자신의 운명을 받아들이고 왕위를 되찾기 위한 심바의 모험을 그린 감동적인 이야기이다.\n",
      "       "
     ]
    },
    {
     "data": {
      "text/plain": [
       "AIMessageChunk(content='\\n            라이온 킹 (1994)\\n            장르: 애니메이션, 드라마, 가족\\n            감독: 로저 알러스, 로브 며스커\\n            주요 출연진: 조나단 테일러 토마스 (심바 목소리), 마튜 브로데릭 (스카 목소리), 제임스 얼 존스 (무파사 목소리)\\n            예산: 약 4,500만 달러\\n            흥행 수익: 전 세계 약 9억 7,000만 달러\\n            시놉시스: 사자 왕무파사와 왕비 사라바의 아들 심바는 아버지의 죽음으로 왕위를 물려받게 된다. 그러나 악랄한 삼촌 스카의 계략으로 심바는 무림으로 추방당하고, 자신의 고향을 되찾기 위해 여정을 떠난다. 자신의 운명을 받아들이고 왕위를 되찾기 위한 심바의 모험을 그린 감동적인 이야기이다.\\n       ')"
      ]
     },
     "execution_count": 6,
     "metadata": {},
     "output_type": "execute_result"
    }
   ],
   "source": [
    "# 영화 이름을 가지고 감독, 주요 출연진, 예산, 흥행 수익, 영화의 장르, 간단한 시놉시스 등 영화에 대한 정보로 답장하는 체인을 만드세요.\n",
    "# LLM은 항상 동일한 형식을 사용하여 응답해야 하며, 이를 위해서는 원하는 출력의 예시를 LLM에 제공해야 합니다.\n",
    "# 예제를 제공하려면 FewShotPromptTemplate 또는 FewShotChatMessagePromptTemplate을 사용하세요.\n",
    "\n",
    "from langchain.chat_models import ChatOpenAI\n",
    "from langchain.callbacks import StreamingStdOutCallbackHandler\n",
    "from langchain.prompts import ChatPromptTemplate\n",
    "from langchain.prompts.few_shot import FewShotPromptTemplate, FewShotChatMessagePromptTemplate\n",
    "\n",
    "chat = ChatOpenAI(\n",
    "    temperature=0.1, \n",
    "    model=\"gpt-3.5-turbo\",\n",
    "    streaming=True,\n",
    "    callbacks=[StreamingStdOutCallbackHandler()]\n",
    ")\n",
    "\n",
    "examples=[\n",
    "    {\n",
    "       \"question\": \"아바타\",\n",
    "       \"answer\": \"\"\"\n",
    "            아바타 (2009)\n",
    "            장르: SF, 액션, 어드벤처\n",
    "            감독: 제임스 카메론\n",
    "            주요 출연진:샘 워싱턴 (제이크 설리 역),조이 살다나 (네이티리 역),시고니 위버 (그레이스 오거스틴 박사 역)\n",
    "            예산: 약 2억 3,700만 달러\n",
    "            흥행 수익: 전 세계 약 28억 4,700만 달러\n",
    "            시놉시스: 지구의 자원이 고갈된 미래, 전직 해병대원 제이크 설리는 외계 행성 판도라에서 '아바타' 프로그램에 참여하게 된다. 그는 원주민인 나비족과 교류하며 그들의 문화를 이해하게 되고, 인간의 탐욕에 맞서 판도라를 지키기 위한 싸움에 동참하게 된다.\n",
    "       \"\"\",\n",
    "   },\n",
    "   {\n",
    "       \"question\": \"인셉션\",\n",
    "       \"answer\": \"\"\"\n",
    "            인셉션 (2010)\n",
    "            장르: SF, 스릴러\n",
    "            감독: 크리스토퍼 놀란\n",
    "            주요 출연진:레오나르도 디카프리오 (도미닉 코브 역), 조셉 고든 레빗 (아서 역), 엘리엇 페이지 (아리아드네 역)\n",
    "            예산: 약 1억 6,000만 달러\n",
    "            흥행 수익: 전 세계 약 8억 3,600만 달러\n",
    "            시놉시스: 꿈을 통해 타인의 비밀을 훔치는 추출가 도미닉 코브는 불가능하다고 여겨지는 '인셉션', 즉 타인의 잠재의식에 아이디어를 주입하는 임무를 맡게 된다. 이를 성공하면 자신의 과거를 청산할 수 있는 기회를 얻지만, 임무는 예상치 못한 위험과 복잡한 상황으로 이어진다.\n",
    "       \"\"\",\n",
    "   }\n",
    "]\n",
    "\n",
    "\n",
    "example_template = ChatPromptTemplate.from_messages([\n",
    "    (\"human\", \"영화 {question}에 대해 알려줘.\"),\n",
    "    (\"ai\",\"{answer}\"),\n",
    "])\n",
    "\n",
    "example_prompt = FewShotChatMessagePromptTemplate(\n",
    "    example_prompt=example_template,\n",
    "    examples=examples\n",
    ")\n",
    "\n",
    "final_prompt = ChatPromptTemplate.from_messages([\n",
    "    (\"system\",\"너는 영화 매니아야\"),\n",
    "    example_prompt,\n",
    "    (\"human\",\"영화 {movieTitle}에 대해 알려줘.\"),\n",
    "])\n",
    "\n",
    "chain = final_prompt | chat\n",
    "\n",
    "chain.invoke({\"movieTitle\":\"라이온킹\"})\n"
   ]
  },
  {
   "cell_type": "code",
   "execution_count": null,
   "metadata": {},
   "outputs": [],
   "source": []
  },
  {
   "cell_type": "code",
   "execution_count": null,
   "metadata": {},
   "outputs": [],
   "source": []
  }
 ],
 "metadata": {
  "kernelspec": {
   "display_name": "env",
   "language": "python",
   "name": "python3"
  },
  "language_info": {
   "codemirror_mode": {
    "name": "ipython",
    "version": 3
   },
   "file_extension": ".py",
   "mimetype": "text/x-python",
   "name": "python",
   "nbconvert_exporter": "python",
   "pygments_lexer": "ipython3",
   "version": "3.11.6"
  }
 },
 "nbformat": 4,
 "nbformat_minor": 2
}
