{
 "cells": [
  {
   "cell_type": "code",
   "execution_count": 7,
   "metadata": {},
   "outputs": [
    {
     "name": "stdout",
     "output_type": "stream",
     "text": [
      "content='' additional_kwargs={'function_call': {'name': 'create_quiz', 'arguments': '{\"questions\":[{\"question\":\"What is the capital city of France?\",\"answers\":[{\"answer\":\"Paris\",\"correct\":true},{\"answer\":\"London\",\"correct\":false},{\"answer\":\"Berlin\",\"correct\":false},{\"answer\":\"Rome\",\"correct\":false}]},{\"question\":\"Which famous tower in Paris is known for its iron lattice structure?\",\"answers\":[{\"answer\":\"Eiffel Tower\",\"correct\":true},{\"answer\":\"Big Ben\",\"correct\":false},{\"answer\":\"Leaning Tower of Pisa\",\"correct\":false},{\"answer\":\"Empire State Building\",\"correct\":false}]},{\"question\":\"What is the name of the river that runs through Paris?\",\"answers\":[{\"answer\":\"Seine\",\"correct\":true},{\"answer\":\"Thames\",\"correct\":false},{\"answer\":\"Danube\",\"correct\":false},{\"answer\":\"Nile\",\"correct\":false}]},{\"question\":\"Which art museum in Paris is home to the Mona Lisa?\",\"answers\":[{\"answer\":\"Louvre\",\"correct\":true},{\"answer\":\"Metropolitan Museum of Art\",\"correct\":false},{\"answer\":\"Tate Modern\",\"correct\":false},{\"answer\":\"Guggenheim Museum\",\"correct\":false}]},{\"question\":\"What is the famous avenue in Paris known for its theaters, cafes, and luxury shops?\",\"answers\":[{\"answer\":\"Champs-Élysées\",\"correct\":true},{\"answer\":\"Broadway\",\"correct\":false},{\"answer\":\"Rodeo Drive\",\"correct\":false},{\"answer\":\"Oxford Street\",\"correct\":false}]}]}'}} response_metadata={'token_usage': <OpenAIObject at 0x173136ff350> JSON: {\n",
      "  \"prompt_tokens\": 84,\n",
      "  \"completion_tokens\": 296,\n",
      "  \"total_tokens\": 380,\n",
      "  \"prompt_tokens_details\": {\n",
      "    \"cached_tokens\": 0,\n",
      "    \"audio_tokens\": 0\n",
      "  },\n",
      "  \"completion_tokens_details\": {\n",
      "    \"reasoning_tokens\": 0,\n",
      "    \"audio_tokens\": 0,\n",
      "    \"accepted_prediction_tokens\": 0,\n",
      "    \"rejected_prediction_tokens\": 0\n",
      "  }\n",
      "}, 'model_name': 'gpt-3.5-turbo', 'system_fingerprint': None, 'finish_reason': 'stop', 'logprobs': None} id='run-df12bbf0-6f78-4de4-9bab-89423f657683-0'\n"
     ]
    }
   ],
   "source": [
    "from langchain.chat_models import ChatOpenAI\n",
    "from langchain.prompts import PromptTemplate\n",
    "\n",
    "\n",
    "function = {\n",
    "    \"name\": \"create_quiz\",\n",
    "    \"description\": \"function that takes a list of questions and answers and returns a quiz\",\n",
    "    \"parameters\":{\n",
    "        \"type\": \"object\",\n",
    "        \"properties\": {\n",
    "            \"questions\": {\n",
    "                \"type\": \"array\",\n",
    "                \"items\": {\n",
    "                    \"type\": \"object\",\n",
    "                    \"properties\": {\n",
    "                        \"question\": {\n",
    "                            \"type\": \"string\"\n",
    "                        },\n",
    "                        \"answers\": {\n",
    "                            \"type\": \"array\",\n",
    "                            \"items\": {\n",
    "                                \"type\": \"object\",\n",
    "                                \"properties\": {\n",
    "                                    \"answer\": {\n",
    "                                        \"type\": \"string\"\n",
    "                                    },\n",
    "                                    \"correct\": {\n",
    "                                        \"type\": \"boolean\"\n",
    "                                    }\n",
    "                                },\n",
    "                                \"required\": [\"answer\", \"correct\"]\n",
    "                            }\n",
    "                        }\n",
    "                },\n",
    "                \"required\": [\"question\", \"answers\"]\n",
    "            }\n",
    "        }\n",
    "    },\n",
    "    \"required\": [\"questions\"]\n",
    " },#end of parameters\n",
    "}#end of function\n",
    "\n",
    "\n",
    "# Create a chat model instance\n",
    "llm = ChatOpenAI(\n",
    "   temperature=0.1,\n",
    "#    streaming=True,\n",
    "#    callbacks=[StreamingStdOutCallbackHandler()],\n",
    ").bind(\n",
    "    #You can set the `function_call` arg to force the model to use a function\n",
    "    function_call = {\n",
    "      \"name\": \"create_quiz\",\n",
    "    },\n",
    "    functions=[function],\n",
    ")\n",
    "\n",
    "\n",
    "prompt = PromptTemplate.from_template(\"Make a quiz about {city}\")\n",
    "\n",
    "chain = prompt | llm\n",
    "\n",
    "response = chain.invoke(\"Paris\")\n",
    "\n",
    "print(response)"
   ]
  },
  {
   "cell_type": "code",
   "execution_count": 9,
   "metadata": {},
   "outputs": [
    {
     "name": "stdout",
     "output_type": "stream",
     "text": [
      "{'question': 'What is the capital city of France?', 'answers': [{'answer': 'Paris', 'correct': True}, {'answer': 'London', 'correct': False}, {'answer': 'Berlin', 'correct': False}, {'answer': 'Rome', 'correct': False}]}\n",
      "{'question': 'Which famous tower in Paris is known for its iron lattice structure?', 'answers': [{'answer': 'Eiffel Tower', 'correct': True}, {'answer': 'Big Ben', 'correct': False}, {'answer': 'Leaning Tower of Pisa', 'correct': False}, {'answer': 'Empire State Building', 'correct': False}]}\n",
      "{'question': 'What is the name of the river that runs through Paris?', 'answers': [{'answer': 'Seine', 'correct': True}, {'answer': 'Thames', 'correct': False}, {'answer': 'Danube', 'correct': False}, {'answer': 'Nile', 'correct': False}]}\n",
      "{'question': 'Which art museum in Paris is home to the Mona Lisa?', 'answers': [{'answer': 'Louvre', 'correct': True}, {'answer': 'Metropolitan Museum of Art', 'correct': False}, {'answer': 'Tate Modern', 'correct': False}, {'answer': 'Guggenheim Museum', 'correct': False}]}\n",
      "{'question': 'What is the famous avenue in Paris known for its theaters, cafes, and luxury shops?', 'answers': [{'answer': 'Champs-Élysées', 'correct': True}, {'answer': 'Broadway', 'correct': False}, {'answer': 'Rodeo Drive', 'correct': False}, {'answer': 'Oxford Street', 'correct': False}]}\n"
     ]
    }
   ],
   "source": [
    "import json\n",
    "response = response.additional_kwargs[\"function_call\"][\"arguments\"]\n",
    "for question in json.loads(response)[\"questions\"]:\n",
    "    print(question)"
   ]
  }
 ],
 "metadata": {
  "kernelspec": {
   "display_name": "env",
   "language": "python",
   "name": "python3"
  },
  "language_info": {
   "codemirror_mode": {
    "name": "ipython",
    "version": 3
   },
   "file_extension": ".py",
   "mimetype": "text/x-python",
   "name": "python",
   "nbconvert_exporter": "python",
   "pygments_lexer": "ipython3",
   "version": "3.11.6"
  }
 },
 "nbformat": 4,
 "nbformat_minor": 2
}
