{
 "cells": [
  {
   "cell_type": "code",
   "execution_count": 27,
   "metadata": {},
   "outputs": [],
   "source": [
    "# 앞서 배운 메모리 클래스 중 하나를 사용하는 메모리로 LCEL 체인을 구현합니다.\n",
    "# 이 체인은 영화 제목을 가져와 영화를 나타내는 세 개의 이모티콘으로 응답해야 합니다. (예: \"탑건\" -> \"🛩️👨‍✈️🔥\". \"대부\" -> \"👨‍👨‍👦🔫🍝\").\n",
    "# 항상 세 개의 이모티콘으로 답장하도록 FewShotPromptTemplate 또는 FewShotChatMessagePromptTemplate을 사용하여 체인에 예시를 제공하세요.\n",
    "# 메모리가 작동하는지 확인하려면 체인에 두 개의 영화에 대해 질문한 다음 다른 셀에서 체인에 먼저 질문한 영화가 무엇인지 알려달라고 요청하세요.\n",
    "\n",
    "\n",
    "from langchain.chat_models import ChatOpenAI\n",
    "from langchain.callbacks import StreamingStdOutCallbackHandler\n",
    "from langchain.prompts import ChatPromptTemplate, MessagesPlaceholder\n",
    "from langchain.prompts.few_shot import FewShotChatMessagePromptTemplate\n",
    "from langchain.memory import ConversationSummaryBufferMemory\n",
    "\n",
    "llm = ChatOpenAI(\n",
    "    temperature=0.1, \n",
    "    model=\"gpt-3.5-turbo\",\n",
    "    streaming=True,\n",
    "    callbacks=[StreamingStdOutCallbackHandler()]\n",
    ")\n",
    "\n",
    "memory = ConversationSummaryBufferMemory(\n",
    "    llm=llm,\n",
    "    max_token_limit=120,\n",
    "    memory_key=\"history\",\n",
    "    return_messages=True,\n",
    ")\n",
    "\n",
    "examples=[\n",
    "    {\n",
    "       \"question\": \"영화 아바타에 대해 알려줘.\",\n",
    "       \"answer\": \"\"\"\n",
    "            아바타 (2009)\n",
    "            시놉시스: 🌌🌿🤝\n",
    "       \"\"\",\n",
    "   },\n",
    "   {\n",
    "       \"question\": \"영화 인셉션에 대해 알려줘.\",\n",
    "       \"answer\": \"\"\"\n",
    "            인셉션 (2010)\n",
    "            시놉시스: 🌀💤🕰️\n",
    "        \"\"\",\n",
    "   },\n",
    "   {\n",
    "       \"question\": \"영화 라이온킹에 대해 알려줘.\",\n",
    "       \"answer\": \"\"\"\n",
    "            라이온킹 (1994)\n",
    "            시놉시스: 🦁👑🌅\n",
    "        \"\"\",\n",
    "   }\n",
    "]\n",
    "\n",
    "\n",
    "example_template = ChatPromptTemplate.from_messages([\n",
    "    (\"human\", \"{question}\"),\n",
    "    (\"ai\",\"{answer}\"),\n",
    "])\n",
    "\n",
    "example_prompt = FewShotChatMessagePromptTemplate(\n",
    "    example_prompt=example_template,\n",
    "    examples=examples\n",
    ")\n",
    "\n",
    "final_prompt = ChatPromptTemplate.from_messages([\n",
    "    (\"system\",\"너는 영화 매니아야\"),\n",
    "    MessagesPlaceholder(variable_name=\"history\"),\n",
    "    example_prompt,\n",
    "    (\"human\",\"{movieTitle}\"),\n",
    "])\n",
    "\n",
    "chain = final_prompt | llm\n",
    "\n",
    "def invoke_chain(question):\n",
    "    result = chain.invoke({\n",
    "        \"history\": memory.load_memory_variables({})['history'],\n",
    "        \"movieTitle\":question\n",
    "    })\n",
    "    memory.save_context(\n",
    "        {\"input\":question},\n",
    "        {\"output\":result.content}\n",
    "    )\n",
    "    print(result)\n"
   ]
  },
  {
   "cell_type": "code",
   "execution_count": 28,
   "metadata": {},
   "outputs": [
    {
     "name": "stdout",
     "output_type": "stream",
     "text": [
      "아저씨 (2010)\n",
      "시놉시스: 🥋🔪💥content='아저씨 (2010)\\n시놉시스: 🥋🔪💥'\n"
     ]
    }
   ],
   "source": [
    "# memory.load_memory_variables({})['history']\n",
    "\n",
    "invoke_chain(\"아저씨\")"
   ]
  },
  {
   "cell_type": "code",
   "execution_count": 29,
   "metadata": {},
   "outputs": [
    {
     "name": "stdout",
     "output_type": "stream",
     "text": [
      "오징어 게임 (2021)\n",
      "시놉시스: 🦑💰🎮content='오징어 게임 (2021)\\n시놉시스: 🦑💰🎮'\n"
     ]
    }
   ],
   "source": [
    "invoke_chain(\"오징어 게임\")\n"
   ]
  },
  {
   "cell_type": "code",
   "execution_count": 31,
   "metadata": {},
   "outputs": [
    {
     "name": "stdout",
     "output_type": "stream",
     "text": [
      "미안해요. 다시 알려드릴게요.\n",
      "\n",
      "아바타 (2009)\n",
      "인셉션 (2010)\n",
      "라이온킹 (1994)The human and AI discuss movies, mentioning \"아저씨\" and \"오징어 게임.\" The human asks the AI to recommend a movie they have not mentioned. The AI apologizes and recommends \"아바타 (2009),\" a science fiction fantasy film set on the planet Pandora where a war between humans and the Na'vi unfolds.content='미안해요. 다시 알려드릴게요.\\n\\n아바타 (2009)\\n인셉션 (2010)\\n라이온킹 (1994)'\n"
     ]
    }
   ],
   "source": [
    "invoke_chain(\"내가 물어본 영화 제목 알려줘.\")"
   ]
  },
  {
   "cell_type": "code",
   "execution_count": null,
   "metadata": {},
   "outputs": [],
   "source": [
    "\n"
   ]
  },
  {
   "cell_type": "code",
   "execution_count": null,
   "metadata": {},
   "outputs": [],
   "source": []
  },
  {
   "cell_type": "code",
   "execution_count": null,
   "metadata": {},
   "outputs": [],
   "source": []
  }
 ],
 "metadata": {
  "kernelspec": {
   "display_name": "env",
   "language": "python",
   "name": "python3"
  },
  "language_info": {
   "codemirror_mode": {
    "name": "ipython",
    "version": 3
   },
   "file_extension": ".py",
   "mimetype": "text/x-python",
   "name": "python",
   "nbconvert_exporter": "python",
   "pygments_lexer": "ipython3",
   "version": "3.11.6"
  }
 },
 "nbformat": 4,
 "nbformat_minor": 2
}
