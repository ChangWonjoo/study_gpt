{
 "cells": [
  {
   "cell_type": "code",
   "execution_count": 12,
   "metadata": {},
   "outputs": [],
   "source": [
    "from langchain.utilities.duckduckgo_search import DuckDuckGoSearchAPIWrapper\n",
    "import yfinance\n",
    "import json\n",
    "\n",
    "def get_ticker(inputs):\n",
    "    company_name = inputs[\"company_name\"] #inputs에는 {\"company_name\": \"Apple\"} 이런식으로 들어옴\n",
    "    # ddg = DuckDuckGoSearchAPIWrapper()\n",
    "    ticker = \"AAPL\"\n",
    "    return {\"ticker\": ticker}\n",
    "\n",
    "def get_income_statement(inputs):\n",
    "    ticker = inputs[\"ticker\"]\n",
    "    # print(ticker)\n",
    "    stock = yfinance.Ticker(ticker)\n",
    "    # return stock.income_stmt #pandas dataframe\n",
    "    return json.dumps(stock.income_stmt.to_json()) #json string\n",
    "\n",
    "def get_balance_sheet(inputs):\n",
    "    ticker = inputs[\"ticker\"]\n",
    "    stock = yfinance.Ticker(ticker)\n",
    "    return json.dumps(stock.balance_sheet.to_json())\n",
    "\n",
    "def get_daily_stock_performance(inputs):\n",
    "    ticker = inputs[\"ticker\"]\n",
    "    stock = yfinance.Ticker(ticker)\n",
    "    return json.dumps(stock.history(period=\"3mo\").to_json()) #json string\n",
    "\n",
    "\n",
    "functions_map = {\n",
    "    \"get_ticker\": get_ticker,\n",
    "    \"get_income_statement\": get_income_statement,\n",
    "    \"get_balance_sheet\": get_balance_sheet,\n",
    "    \"get_daily_stock_performance\": get_daily_stock_performance,\n",
    "}\n",
    "\n",
    "functions = [\n",
    "    {\n",
    "        \"type\": \"function\",\n",
    "        \"function\": {\n",
    "            \"name\": \"get_ticker\",\n",
    "            \"description\": \"Given the name of a company returns its ticker symbol\",\n",
    "            \"parameters\": {\n",
    "                \"type\": \"object\",\n",
    "                \"properties\": {\n",
    "                    \"company_name\": {\n",
    "                        \"type\": \"string\",\n",
    "                        \"description\": \"The name of the company\",\n",
    "                    }\n",
    "                },\n",
    "                \"required\": [\"company_name\"],\n",
    "            },\n",
    "        },\n",
    "    },\n",
    "    {\n",
    "        \"type\": \"function\",\n",
    "        \"function\": {\n",
    "            \"name\": \"get_income_statement\",\n",
    "            \"description\": \"Given a ticker symbol (i.e AAPL) returns the company's income statement.\",\n",
    "            \"parameters\": {\n",
    "                \"type\": \"object\",\n",
    "                \"properties\": {\n",
    "                    \"ticker\": {\n",
    "                        \"type\": \"string\",\n",
    "                        \"description\": \"Ticker symbol of the company\",\n",
    "                    },\n",
    "                },\n",
    "                \"required\": [\"ticker\"],\n",
    "            },\n",
    "        },\n",
    "    },\n",
    "    {\n",
    "        \"type\": \"function\",\n",
    "        \"function\": {\n",
    "            \"name\": \"get_balance_sheet\",\n",
    "            \"description\": \"Given a ticker symbol (i.e AAPL) returns the company's balance sheet.\",\n",
    "            \"parameters\": {\n",
    "                \"type\": \"object\",\n",
    "                \"properties\": {\n",
    "                    \"ticker\": {\n",
    "                        \"type\": \"string\",\n",
    "                        \"description\": \"Ticker symbol of the company\",\n",
    "                    },\n",
    "                },\n",
    "                \"required\": [\"ticker\"],\n",
    "            },\n",
    "        },\n",
    "    },\n",
    "    {\n",
    "        \"type\": \"function\",\n",
    "        \"function\": {\n",
    "            \"name\": \"get_daily_stock_performance\",\n",
    "            \"description\": \"Given a ticker symbol (i.e AAPL) returns the performance of the stock for the last 100 days.\",\n",
    "            \"parameters\": {\n",
    "                \"type\": \"object\",\n",
    "                \"properties\": {\n",
    "                    \"ticker\": {\n",
    "                        \"type\": \"string\",\n",
    "                        \"description\": \"Ticker symbol of the company\",\n",
    "                    },\n",
    "                },\n",
    "                \"required\": [\"ticker\"],\n",
    "            },\n",
    "        },\n",
    "    },\n",
    "]\n",
    "\n",
    "# a = get_income_statement({\"ticker\": \"AAPL\"})\n",
    "# print(type(a))\n",
    "# print(a)\n"
   ]
  },
  {
   "cell_type": "code",
   "execution_count": 13,
   "metadata": {},
   "outputs": [],
   "source": [
    "from langchain.chat_models import ChatOpenAI\n",
    "from langchain.prompts import PromptTemplate\n",
    "from openai import OpenAI\n",
    "\n",
    "client = OpenAI()\n",
    "\n",
    "# assistant = client.beta.assistants.create(\n",
    "#     name=\"Investor Assistant\",\n",
    "#     instructions=\"You help users do research on publicly traded companies and you help users decide if they should buy the stock or not.\",\n",
    "#     model=\"gpt-4-1106-preview\",\n",
    "#     tools=functions,\n",
    "# )\n",
    "\n",
    "assistant_id='asst_gkcE5OgmIiWFufkYVqy1CVRk'\n"
   ]
  },
  {
   "cell_type": "code",
   "execution_count": 27,
   "metadata": {},
   "outputs": [
    {
     "data": {
      "text/plain": [
       "Thread(id='thread_0tqEOotOU1LD1QBHMntnuRBy', created_at=1737906870, metadata={}, object='thread', tool_resources=ToolResources(code_interpreter=None, file_search=None))"
      ]
     },
     "execution_count": 27,
     "metadata": {},
     "output_type": "execute_result"
    }
   ],
   "source": [
    "thread = client.beta.threads.create(\n",
    "    messages=[\n",
    "        {\n",
    "            \"role\": \"user\",\n",
    "            \"content\": \"I want to know if the Apple stock is a good buy\",\n",
    "        }\n",
    "    ]\n",
    ")\n",
    "thread"
   ]
  },
  {
   "cell_type": "code",
   "execution_count": 40,
   "metadata": {},
   "outputs": [
    {
     "name": "stdout",
     "output_type": "stream",
     "text": [
      "Run(id='run_kv8hX2nsycWtnCNJRjt1eu5A', assistant_id='asst_gkcE5OgmIiWFufkYVqy1CVRk', cancelled_at=None, completed_at=None, created_at=1737907536, expires_at=1737908136, failed_at=None, incomplete_details=None, instructions='You help users do research on publicly traded companies and you help users decide if they should buy the stock or not.', last_error=None, max_completion_tokens=None, max_prompt_tokens=None, metadata={}, model='gpt-4-1106-preview', object='thread.run', parallel_tool_calls=True, required_action=None, response_format='auto', started_at=None, status='queued', thread_id='thread_0tqEOotOU1LD1QBHMntnuRBy', tool_choice='auto', tools=[FunctionTool(function=FunctionDefinition(name='get_ticker', description='Given the name of a company returns its ticker symbol', parameters={'type': 'object', 'properties': {'company_name': {'type': 'string', 'description': 'The name of the company'}}, 'required': ['company_name']}, strict=False), type='function'), FunctionTool(function=FunctionDefinition(name='get_income_statement', description=\"Given a ticker symbol (i.e AAPL) returns the company's income statement.\", parameters={'type': 'object', 'properties': {'ticker': {'type': 'string', 'description': 'Ticker symbol of the company'}}, 'required': ['ticker']}, strict=False), type='function'), FunctionTool(function=FunctionDefinition(name='get_balance_sheet', description=\"Given a ticker symbol (i.e AAPL) returns the company's balance sheet.\", parameters={'type': 'object', 'properties': {'ticker': {'type': 'string', 'description': 'Ticker symbol of the company'}}, 'required': ['ticker']}, strict=False), type='function'), FunctionTool(function=FunctionDefinition(name='get_daily_stock_performance', description='Given a ticker symbol (i.e AAPL) returns the performance of the stock for the last 100 days.', parameters={'type': 'object', 'properties': {'ticker': {'type': 'string', 'description': 'Ticker symbol of the company'}}, 'required': ['ticker']}, strict=False), type='function')], truncation_strategy=TruncationStrategy(type='auto', last_messages=None), usage=None, temperature=1.0, top_p=1.0, tool_resources={})\n"
     ]
    }
   ],
   "source": [
    "run = client.beta.threads.runs.create(\n",
    "    thread_id=thread.id,\n",
    "    assistant_id=assistant_id,\n",
    ")\n",
    "print(run)"
   ]
  },
  {
   "cell_type": "code",
   "execution_count": 43,
   "metadata": {},
   "outputs": [],
   "source": [
    "def get_run(run_id, thread_id):\n",
    "    return client.beta.threads.runs.retrieve(\n",
    "        run_id=run_id,\n",
    "        thread_id=thread_id,\n",
    "    )\n",
    "\n",
    "def send_message(thread_id, content):\n",
    "    return client.beta.threads.messages.create(\n",
    "        thread_id=thread_id, role=\"user\", content=content\n",
    "    )\n",
    "\n",
    "def get_messages(thread_id):\n",
    "    messages = client.beta.threads.messages.list(thread_id=thread_id)\n",
    "    messages = list(messages) #list 매소드를 사용하기 위해 객체를 list로 변환\n",
    "    messages.reverse()\n",
    "    for message in messages:\n",
    "        print(f\"{message.role}: {message.content[0].text.value}\")\n",
    "\n",
    "def get_tool_outputs(run_id, thread_id):\n",
    "    run = get_run(run_id, thread.id)\n",
    "    outputs = []\n",
    "    for action in run.required_action.submit_tool_outputs.tool_calls:\n",
    "        action_id = action.id\n",
    "        function = action.function\n",
    "        # because function.arguments just brings str, so convert it to json so that the function can actually use it.\n",
    "        function_args = json.loads(function.arguments)\n",
    "        output = functions_map[function.name](function_args)\n",
    "        output_str =json.dumps(output)\n",
    "        print(f\"Calling function: {function.name} with arg {function.arguments}\")\n",
    "        outputs.append(\n",
    "            {\n",
    "                \"output\": output_str,\n",
    "                \"tool_call_id\": action_id,\n",
    "            }\n",
    "        )\n",
    "    return outputs\n",
    "\n",
    "\n",
    "def submit_tool_outputs(run_id, thread_id):\n",
    "    outputs = get_tool_outputs(run_id, thread_id)\n",
    "    return client.beta.threads.runs.submit_tool_outputs(\n",
    "        run_id=run_id, thread_id=thread_id, tool_outputs=outputs\n",
    "    )\n"
   ]
  },
  {
   "cell_type": "code",
   "execution_count": 30,
   "metadata": {},
   "outputs": [
    {
     "name": "stdout",
     "output_type": "stream",
     "text": [
      "requires_action\n"
     ]
    }
   ],
   "source": [
    "resultstatus = get_run(run.id, thread.id).status\n",
    "print(resultstatus)"
   ]
  },
  {
   "cell_type": "code",
   "execution_count": 46,
   "metadata": {},
   "outputs": [
    {
     "name": "stdout",
     "output_type": "stream",
     "text": [
      "user: I want to know if the Apple stock is a good buy\n",
      "assistant: To determine if Apple Inc. (AAPL) stock is a good buy, one would typically consider various factors such as financial health, company performance, recent stock trends, and overall market conditions. As an AI, I can provide information on Apple's financial statements and recent stock performance, but the decision to buy a stock should also be based on your investment strategy, risk tolerance, and other personal considerations.\n",
      "\n",
      "Here's how we can start:\n",
      "\n",
      "1. Ticker Symbol: First, I will retrieve the ticker symbol for Apple Inc.\n",
      "2. Income Statement: Analyze Apple's income statement to assess profitability and revenue growth.\n",
      "3. Balance Sheet: Review the balance sheet to understand the financial stability and structure of the company.\n",
      "4. Stock Performance: Look at the stock's performance over the last 100 days for recent trends.\n",
      "\n",
      "Let's begin by using the relevant tools to gather this information.\n",
      "assistant: Based on the information gathered, here's a summary of Apple Inc.'s (AAPL) financials and recent stock performance:\n",
      "\n",
      "### Financial Health\n",
      "- **Revenue**: Apple's total revenue has been growing, with the latest available figure for the year ended at $391.035 billion.\n",
      "- **Net Income**: The most recent net income is $93.736 billion, indicating strong profitability.\n",
      "- **Gross Profit**: Apple's yearly gross profit has also increased, with a recent total of $180.683 billion.\n",
      "\n",
      "### Balance Sheet\n",
      "- **Total Assets**: Apple's assets are substantial, with the latest figure at $364.98 billion.\n",
      "- **Total Liabilities**: The company's liabilities stand at $308.03 billion.\n",
      "- **Equity**: Apple has a reported common stock equity of $56.95 billion, which represents the shareholder's interest in the company.\n",
      "\n",
      "### Stock Performance Over the Last 100 Days\n",
      "- The stock has experienced volatility with fluctuations in opening prices. The latest opening price is around $224, which is lower than the 100-day high of above $250.\n",
      "\n",
      "These financial figures showcase Apple's strong financial performance with significant revenue, profitability, and overall financial stability. However, the stock's recent volatility should be taken into consideration, as it reflects market movements and investor sentiment.\n",
      "\n",
      "When deciding whether Apple's stock is a good buy, you need to consider your investment goals, time horizon, risk tolerance, and diversification strategy. It's also crucial to stay updated with the latest company news, market trends, and macroeconomic factors that might impact the stock price.\n",
      "\n",
      "For a personalized investment decision, it's often wise to consult with a financial advisor or do further in-depth analysis considering the broader context of the market and your personal financial situation.\n",
      "None\n"
     ]
    }
   ],
   "source": [
    "messages = get_messages(thread.id)\n",
    "print(messages)"
   ]
  },
  {
   "cell_type": "code",
   "execution_count": 37,
   "metadata": {},
   "outputs": [
    {
     "name": "stdout",
     "output_type": "stream",
     "text": [
      "Calling function: get_ticker with arg {\"company_name\":\"Apple Inc.\"}\n",
      "[{'output': {'ticker': 'AAPL'}, 'tool_call_id': 'call_5LYeQQBGRRs7aJtVx6tZyAcF'}]\n"
     ]
    }
   ],
   "source": [
    "submit = get_tool_outputs(run.id, thread.id)\n",
    "print(submit)"
   ]
  },
  {
   "cell_type": "code",
   "execution_count": 45,
   "metadata": {},
   "outputs": [
    {
     "ename": "AttributeError",
     "evalue": "'NoneType' object has no attribute 'submit_tool_outputs'",
     "output_type": "error",
     "traceback": [
      "\u001b[1;31m---------------------------------------------------------------------------\u001b[0m",
      "\u001b[1;31mAttributeError\u001b[0m                            Traceback (most recent call last)",
      "Cell \u001b[1;32mIn[45], line 1\u001b[0m\n\u001b[1;32m----> 1\u001b[0m submit2 \u001b[38;5;241m=\u001b[39m \u001b[43msubmit_tool_outputs\u001b[49m\u001b[43m(\u001b[49m\u001b[43mrun\u001b[49m\u001b[38;5;241;43m.\u001b[39;49m\u001b[43mid\u001b[49m\u001b[43m,\u001b[49m\u001b[43m \u001b[49m\u001b[43mthread\u001b[49m\u001b[38;5;241;43m.\u001b[39;49m\u001b[43mid\u001b[49m\u001b[43m)\u001b[49m\n\u001b[0;32m      2\u001b[0m \u001b[38;5;28mprint\u001b[39m(submit2)\n\u001b[0;32m      4\u001b[0m \u001b[38;5;66;03m# ticker = get_ticker({\"company_name\": \"Apple\"})\u001b[39;00m\n\u001b[0;32m      5\u001b[0m \u001b[38;5;66;03m# print(ticker)\u001b[39;00m\n\u001b[0;32m      6\u001b[0m \u001b[38;5;66;03m# print(type(ticker))\u001b[39;00m\n\u001b[1;32m   (...)\u001b[0m\n\u001b[0;32m     15\u001b[0m \u001b[38;5;66;03m# print(result1)\u001b[39;00m\n\u001b[0;32m     16\u001b[0m \u001b[38;5;66;03m# # print(result2)\u001b[39;00m\n",
      "Cell \u001b[1;32mIn[43], line 40\u001b[0m, in \u001b[0;36msubmit_tool_outputs\u001b[1;34m(run_id, thread_id)\u001b[0m\n\u001b[0;32m     39\u001b[0m \u001b[38;5;28;01mdef\u001b[39;00m \u001b[38;5;21msubmit_tool_outputs\u001b[39m(run_id, thread_id):\n\u001b[1;32m---> 40\u001b[0m     outputs \u001b[38;5;241m=\u001b[39m \u001b[43mget_tool_outputs\u001b[49m\u001b[43m(\u001b[49m\u001b[43mrun_id\u001b[49m\u001b[43m,\u001b[49m\u001b[43m \u001b[49m\u001b[43mthread_id\u001b[49m\u001b[43m)\u001b[49m\n\u001b[0;32m     41\u001b[0m     \u001b[38;5;28;01mreturn\u001b[39;00m client\u001b[38;5;241m.\u001b[39mbeta\u001b[38;5;241m.\u001b[39mthreads\u001b[38;5;241m.\u001b[39mruns\u001b[38;5;241m.\u001b[39msubmit_tool_outputs(\n\u001b[0;32m     42\u001b[0m         run_id\u001b[38;5;241m=\u001b[39mrun_id, thread_id\u001b[38;5;241m=\u001b[39mthread_id, tool_outputs\u001b[38;5;241m=\u001b[39moutputs\n\u001b[0;32m     43\u001b[0m     )\n",
      "Cell \u001b[1;32mIn[43], line 22\u001b[0m, in \u001b[0;36mget_tool_outputs\u001b[1;34m(run_id, thread_id)\u001b[0m\n\u001b[0;32m     20\u001b[0m run \u001b[38;5;241m=\u001b[39m get_run(run_id, thread\u001b[38;5;241m.\u001b[39mid)\n\u001b[0;32m     21\u001b[0m outputs \u001b[38;5;241m=\u001b[39m []\n\u001b[1;32m---> 22\u001b[0m \u001b[38;5;28;01mfor\u001b[39;00m action \u001b[38;5;129;01min\u001b[39;00m \u001b[43mrun\u001b[49m\u001b[38;5;241;43m.\u001b[39;49m\u001b[43mrequired_action\u001b[49m\u001b[38;5;241;43m.\u001b[39;49m\u001b[43msubmit_tool_outputs\u001b[49m\u001b[38;5;241m.\u001b[39mtool_calls:\n\u001b[0;32m     23\u001b[0m     action_id \u001b[38;5;241m=\u001b[39m action\u001b[38;5;241m.\u001b[39mid\n\u001b[0;32m     24\u001b[0m     function \u001b[38;5;241m=\u001b[39m action\u001b[38;5;241m.\u001b[39mfunction\n",
      "\u001b[1;31mAttributeError\u001b[0m: 'NoneType' object has no attribute 'submit_tool_outputs'"
     ]
    }
   ],
   "source": [
    "submit2 = submit_tool_outputs(run.id, thread.id)\n",
    "print(submit2)\n",
    "\n",
    "# ticker = get_ticker({\"company_name\": \"Apple\"})\n",
    "# print(ticker)\n",
    "# print(type(ticker))\n",
    "# print({\"ticker\": \"AAPL\"})\n",
    "# print(type({\"ticker\": \"AAPL\"}))\n",
    "# # print(ticker[\"ticker\"])\n",
    "# # print(type(ticker))\n",
    "# # print(type({\"ticker\": \"AAPL\"}))\n",
    "\n",
    "# result1 = get_income_statement(ticker)\n",
    "# # result2 = get_income_statement({\"ticker\": \"AAPL\"})\n",
    "# print(result1)\n",
    "# # print(result2)"
   ]
  },
  {
   "cell_type": "code",
   "execution_count": 26,
   "metadata": {},
   "outputs": [
    {
     "data": {
      "text/plain": [
       "Message(id='msg_UDQKSNK8Ttzqpwv7PFB3W4FU', assistant_id=None, attachments=[], completed_at=None, content=[TextContentBlock(text=Text(annotations=[], value='please go ahead!'), type='text')], created_at=1737856998, incomplete_at=None, incomplete_details=None, metadata={}, object='thread.message', role='user', run_id=None, status=None, thread_id='thread_vjAs6q82OZc60auzVaULawnh')"
      ]
     },
     "execution_count": 26,
     "metadata": {},
     "output_type": "execute_result"
    }
   ],
   "source": [
    "send_message(thread.id, \"please go ahead!\")"
   ]
  }
 ],
 "metadata": {
  "kernelspec": {
   "display_name": "env",
   "language": "python",
   "name": "python3"
  },
  "language_info": {
   "codemirror_mode": {
    "name": "ipython",
    "version": 3
   },
   "file_extension": ".py",
   "mimetype": "text/x-python",
   "name": "python",
   "nbconvert_exporter": "python",
   "pygments_lexer": "ipython3",
   "version": "3.11.6"
  }
 },
 "nbformat": 4,
 "nbformat_minor": 2
}
